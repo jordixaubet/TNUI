{
 "metadata": {
  "name": ""
 },
 "nbformat": 3,
 "nbformat_minor": 0,
 "worksheets": [
  {
   "cells": [
    {
     "cell_type": "heading",
     "level": 1,
     "metadata": {},
     "source": [
      "Pr\u00e0ctiques de Nous Usos de la Inform\u00e0tica"
     ]
    },
    {
     "cell_type": "markdown",
     "metadata": {},
     "source": [
      "#### Requeriments per fer les pr\u00e0ctiques:"
     ]
    },
    {
     "cell_type": "raw",
     "metadata": {},
     "source": [
      "1) Una forma simple d'instal\u00b7lar tots els paquets necessaris \u00e9s instal\u00b7lar la plataforma de distribuci\u00f3 de Python Anaconda: https://store.continuum.io/\n",
      "Aquesta plataforma instal\u00b7la autom\u00e0ticament un conjunt d'eines (matplotlib, NumPy, SciPy, NetworkX, iPython, pandas, etc.) que constitueixen l'entorn de computaci\u00f3 cient\u00edfica necessari per desenvolupar les pr\u00e0ctiques d'aquesta assignatura. L'altra opci\u00f3 \u00e9s instal\u00b7lar independentment els paquets matplotlib, NumPy, SciPy, NetworkX, iPython i pandas.\n",
      "2) Les pr\u00e0ctiques es poden lliurar en forma de \"notebook\" de iPython que contingui tot el programari desenvolupat per l'alumne o simplement en un m\u00f2dul de Python que contingui tot el programari necessari per executar la pr\u00e0ctica. Informaci\u00f3 sobre iPython: http://ipython.org/"
     ]
    },
    {
     "cell_type": "markdown",
     "metadata": {},
     "source": [
      "<b>ENTREGA: </b>\n",
      "El dia l\u00edmit per a l'entrega d'aquesta pr\u00e0ctica \u00e9s el dia <b>18 d'Octubre a les 23.55h</b>\n",
      "\n",
      "<b>Format de l'entrega</b>\n",
      "L'entrega s'efectur\u00e0 mitjan\u00e7ant el campus virtual. S'ha de penjar un arxiu per grup. El nom del fitxer ha de seguir el seg\u00fcent patro:\n",
      "NUI_1_PrimeralletranomCognomMembre1_PrimeralletranomCognomMembre2.iypnb\n",
      "\n",
      "Exemple: <br>\n",
      "Membre 1: Maria del Carme Vil\u00e0<br>\n",
      "Membre 2: Francesc Castell<br>\n",
      "\n",
      "Nom de l'arxiu: <b>NUI_1_MVila_FCastell.ipynb</b>\n",
      "\n"
     ]
    },
    {
     "cell_type": "heading",
     "level": 1,
     "metadata": {},
     "source": [
      "Pr\u00e0ctica 1. Recomanadors"
     ]
    },
    {
     "cell_type": "raw",
     "metadata": {},
     "source": [
      "La base de dades movielens 1M (http://www.grouplens.org/node/73) cont\u00e9 1,000,209 puntuacions de 3.900 pel\u00b7licules fetes l'any 2000 per 6.040 usuaris an\u00f2nims del recomanador online MovieLens (http://www.movielens.org/). "
     ]
    },
    {
     "cell_type": "raw",
     "metadata": {},
     "source": [
      "Els continguts de la base de dades s\u00f3n:\n",
      "\n",
      "================================================================================\n",
      "\n",
      "All ratings are contained in the file \"ratings.dat\" and are in the following format:\n",
      "\n",
      "UserID::MovieID::Rating::Timestamp\n",
      "\n",
      "- UserIDs range between 1 and 6040 \n",
      "- MovieIDs range between 1 and 3952\n",
      "- Ratings are made on a 5-star scale (whole-star ratings only)\n",
      "- Timestamp is represented in seconds since the epoch as returned by time(2)\n",
      "- Each user has at least 20 ratings\n",
      "\n",
      "USERS FILE DESCRIPTION\n",
      "================================================================================\n",
      "\n",
      "User information is in the file \"users.dat\" and is in the following format:\n",
      "\n",
      "UserID::Gender::Age::Occupation::Zip-code\n",
      "\n",
      "All demographic information is provided voluntarily by the users and is not checked for accuracy.  Only users who have provided some demographic information are included in this data set.\n",
      "\n",
      "- Gender is denoted by a \"M\" for male and \"F\" for female\n",
      "- Age is chosen from the following ranges:\n",
      "\n",
      "\t*  1:  \"Under 18\"\n",
      "\t* 18:  \"18-24\"\n",
      "\t* 25:  \"25-34\"\n",
      "\t* 35:  \"35-44\"\n",
      "\t* 45:  \"45-49\"\n",
      "\t* 50:  \"50-55\"\n",
      "\t* 56:  \"56+\"\n",
      "\n",
      "- Occupation is chosen from the following choices:\n",
      "\n",
      "\t*  0:  \"other\" or not specified\n",
      "\t*  1:  \"academic/educator\"\n",
      "\t*  2:  \"artist\"\n",
      "\t*  3:  \"clerical/admin\"\n",
      "\t*  4:  \"college/grad student\"\n",
      "\t*  5:  \"customer service\"\n",
      "\t*  6:  \"doctor/health care\"\n",
      "\t*  7:  \"executive/managerial\"\n",
      "\t*  8:  \"farmer\"\n",
      "\t*  9:  \"homemaker\"\n",
      "\t* 10:  \"K-12 student\"\n",
      "\t* 11:  \"lawyer\"\n",
      "\t* 12:  \"programmer\"\n",
      "\t* 13:  \"retired\"\n",
      "\t* 14:  \"sales/marketing\"\n",
      "\t* 15:  \"scientist\"\n",
      "\t* 16:  \"self-employed\"\n",
      "\t* 17:  \"technician/engineer\"\n",
      "\t* 18:  \"tradesman/craftsman\"\n",
      "\t* 19:  \"unemployed\"\n",
      "\t* 20:  \"writer\"\n",
      "\n",
      "MOVIES FILE DESCRIPTION\n",
      "================================================================================\n",
      "\n",
      "Movie information is in the file \"movies.dat\" and is in the following format:\n",
      "\n",
      "MovieID::Title::Genres\n",
      "\n",
      "- Titles are identical to titles provided by the IMDB (including year of release)\n",
      "- Genres are pipe-separated and are selected from the following genres:\n",
      "\n",
      "\t* Action\n",
      "\t* Adventure\n",
      "\t* Animation\n",
      "\t* Children's\n",
      "\t* Comedy\n",
      "\t* Crime\n",
      "\t* Documentary\n",
      "\t* Drama\n",
      "\t* Fantasy\n",
      "\t* Film-Noir\n",
      "\t* Horror\n",
      "\t* Musical\n",
      "\t* Mystery\n",
      "\t* Romance\n",
      "\t* Sci-Fi\n",
      "\t* Thriller\n",
      "\t* War\n",
      "\t* Western\n",
      "\n",
      "- Some MovieIDs do not correspond to a movie due to accidental duplicate entries and/or test entries\n",
      "- Movies are mostly entered by hand, so errors and inconsistencies may exist\n"
     ]
    },
    {
     "cell_type": "raw",
     "metadata": {},
     "source": [
      "Baixa't la base de dades i c\u00f2pia-la a un directori local de la teva m\u00e0quina (p.e. \"C:\\Documents and Settings\\UB\\Escritorio\\My Dropbox\\iPython\"). "
     ]
    },
    {
     "cell_type": "raw",
     "metadata": {},
     "source": [
      "Llegeix les tres taules de la base de dades en tres DataFrames de pandas:"
     ]
    },
    {
     "cell_type": "code",
     "collapsed": false,
     "input": [
      "import pandas as pd\n",
      "unames = ['user_id', 'gender', 'age', 'occupation', 'zip']\n",
      "users = pd.read_table('file:///home/dtritus/Dropbox/UNI/Tercer/Taller%20dels%20nous%20usos%20de%20la%20informatica/ml-1m/users.dat', sep='::', header=None, names=unames)\n",
      "rnames = ['user_id', 'movie_id', 'rating', 'timestamp']\n",
      "ratings = pd.read_table('file:///home/dtritus/Dropbox/UNI/Tercer/Taller%20dels%20nous%20usos%20de%20la%20informatica/ml-1m/ratings.dat', sep='::', header=None, names=rnames)\n",
      "mnames = ['movie_id', 'title', 'genres']\n",
      "movies = pd.read_table('file:///home/dtritus/Dropbox/UNI/Tercer/Taller%20dels%20nous%20usos%20de%20la%20informatica/ml-1m/movies.dat', sep='::', header=None, names=mnames)\n"
     ],
     "language": "python",
     "metadata": {},
     "outputs": [],
     "prompt_number": 30
    },
    {
     "cell_type": "code",
     "collapsed": false,
     "input": [
      "print users[:10]\n"
     ],
     "language": "python",
     "metadata": {},
     "outputs": [
      {
       "output_type": "stream",
       "stream": "stdout",
       "text": [
        "   user_id gender  age  occupation    zip\n",
        "0        1      F    1          10  48067\n",
        "1        2      M   56          16  70072\n",
        "2        3      M   25          15  55117\n",
        "3        4      M   45           7  02460\n",
        "4        5      M   25          20  55455\n",
        "5        6      F   50           9  55117\n",
        "6        7      M   35           1  06810\n",
        "7        8      M   25          12  11413\n",
        "8        9      M   25          17  61614\n",
        "9       10      F   35           1  95370\n"
       ]
      }
     ],
     "prompt_number": 31
    },
    {
     "cell_type": "code",
     "collapsed": false,
     "input": [
      "users"
     ],
     "language": "python",
     "metadata": {},
     "outputs": [
      {
       "html": [
        "<pre>\n",
        "&lt;class 'pandas.core.frame.DataFrame'&gt;\n",
        "Int64Index: 6040 entries, 0 to 6039\n",
        "Data columns (total 5 columns):\n",
        "user_id       6040  non-null values\n",
        "gender        6040  non-null values\n",
        "age           6040  non-null values\n",
        "occupation    6040  non-null values\n",
        "zip           6040  non-null values\n",
        "dtypes: int64(3), object(2)\n",
        "</pre>"
       ],
       "metadata": {},
       "output_type": "pyout",
       "prompt_number": 32,
       "text": [
        "<class 'pandas.core.frame.DataFrame'>\n",
        "Int64Index: 6040 entries, 0 to 6039\n",
        "Data columns (total 5 columns):\n",
        "user_id       6040  non-null values\n",
        "gender        6040  non-null values\n",
        "age           6040  non-null values\n",
        "occupation    6040  non-null values\n",
        "zip           6040  non-null values\n",
        "dtypes: int64(3), object(2)"
       ]
      }
     ],
     "prompt_number": 32
    },
    {
     "cell_type": "code",
     "collapsed": false,
     "input": [
      "print ratings[:10]"
     ],
     "language": "python",
     "metadata": {},
     "outputs": [
      {
       "output_type": "stream",
       "stream": "stdout",
       "text": [
        "   user_id  movie_id  rating  timestamp\n",
        "0        1      1193       5  978300760\n",
        "1        1       661       3  978302109\n",
        "2        1       914       3  978301968\n",
        "3        1      3408       4  978300275\n",
        "4        1      2355       5  978824291\n",
        "5        1      1197       3  978302268\n",
        "6        1      1287       5  978302039\n",
        "7        1      2804       5  978300719\n",
        "8        1       594       4  978302268\n",
        "9        1       919       4  978301368\n"
       ]
      }
     ],
     "prompt_number": 33
    },
    {
     "cell_type": "code",
     "collapsed": false,
     "input": [
      "ratings"
     ],
     "language": "python",
     "metadata": {},
     "outputs": [
      {
       "html": [
        "<pre>\n",
        "&lt;class 'pandas.core.frame.DataFrame'&gt;\n",
        "Int64Index: 1000209 entries, 0 to 1000208\n",
        "Data columns (total 4 columns):\n",
        "user_id      1000209  non-null values\n",
        "movie_id     1000209  non-null values\n",
        "rating       1000209  non-null values\n",
        "timestamp    1000209  non-null values\n",
        "dtypes: int64(4)\n",
        "</pre>"
       ],
       "metadata": {},
       "output_type": "pyout",
       "prompt_number": 34,
       "text": [
        "<class 'pandas.core.frame.DataFrame'>\n",
        "Int64Index: 1000209 entries, 0 to 1000208\n",
        "Data columns (total 4 columns):\n",
        "user_id      1000209  non-null values\n",
        "movie_id     1000209  non-null values\n",
        "rating       1000209  non-null values\n",
        "timestamp    1000209  non-null values\n",
        "dtypes: int64(4)"
       ]
      }
     ],
     "prompt_number": 34
    },
    {
     "cell_type": "code",
     "collapsed": false,
     "input": [
      "ratings.sort_index(by='movie_id')[:8]"
     ],
     "language": "python",
     "metadata": {},
     "outputs": [
      {
       "html": [
        "<div style=\"max-height:1000px;max-width:1500px;overflow:auto;\">\n",
        "<table border=\"1\" class=\"dataframe\">\n",
        "  <thead>\n",
        "    <tr style=\"text-align: right;\">\n",
        "      <th></th>\n",
        "      <th>user_id</th>\n",
        "      <th>movie_id</th>\n",
        "      <th>rating</th>\n",
        "      <th>timestamp</th>\n",
        "    </tr>\n",
        "  </thead>\n",
        "  <tbody>\n",
        "    <tr>\n",
        "      <th>427702</th>\n",
        "      <td> 2599</td>\n",
        "      <td> 1</td>\n",
        "      <td> 4</td>\n",
        "      <td> 973796689</td>\n",
        "    </tr>\n",
        "    <tr>\n",
        "      <th>1966  </th>\n",
        "      <td>   18</td>\n",
        "      <td> 1</td>\n",
        "      <td> 4</td>\n",
        "      <td> 978154768</td>\n",
        "    </tr>\n",
        "    <tr>\n",
        "      <th>683688</th>\n",
        "      <td> 4089</td>\n",
        "      <td> 1</td>\n",
        "      <td> 5</td>\n",
        "      <td> 965428947</td>\n",
        "    </tr>\n",
        "    <tr>\n",
        "      <th>596207</th>\n",
        "      <td> 3626</td>\n",
        "      <td> 1</td>\n",
        "      <td> 4</td>\n",
        "      <td> 966594018</td>\n",
        "    </tr>\n",
        "    <tr>\n",
        "      <th>465902</th>\n",
        "      <td> 2873</td>\n",
        "      <td> 1</td>\n",
        "      <td> 5</td>\n",
        "      <td> 972784317</td>\n",
        "    </tr>\n",
        "    <tr>\n",
        "      <th>78200 </th>\n",
        "      <td>  528</td>\n",
        "      <td> 1</td>\n",
        "      <td> 5</td>\n",
        "      <td> 976245400</td>\n",
        "    </tr>\n",
        "    <tr>\n",
        "      <th>106468</th>\n",
        "      <td>  701</td>\n",
        "      <td> 1</td>\n",
        "      <td> 3</td>\n",
        "      <td> 979094230</td>\n",
        "    </tr>\n",
        "    <tr>\n",
        "      <th>434718</th>\n",
        "      <td> 2652</td>\n",
        "      <td> 1</td>\n",
        "      <td> 5</td>\n",
        "      <td> 973535127</td>\n",
        "    </tr>\n",
        "  </tbody>\n",
        "</table>\n",
        "</div>"
       ],
       "metadata": {},
       "output_type": "pyout",
       "prompt_number": 36,
       "text": [
        "        user_id  movie_id  rating  timestamp\n",
        "427702     2599         1       4  973796689\n",
        "1966         18         1       4  978154768\n",
        "683688     4089         1       5  965428947\n",
        "596207     3626         1       4  966594018\n",
        "465902     2873         1       5  972784317\n",
        "78200       528         1       5  976245400\n",
        "106468      701         1       3  979094230\n",
        "434718     2652         1       5  973535127"
       ]
      }
     ],
     "prompt_number": 36
    },
    {
     "cell_type": "code",
     "collapsed": false,
     "input": [
      "movies[:5]"
     ],
     "language": "python",
     "metadata": {},
     "outputs": [
      {
       "html": [
        "<div style=\"max-height:1000px;max-width:1500px;overflow:auto;\">\n",
        "<table border=\"1\" class=\"dataframe\">\n",
        "  <thead>\n",
        "    <tr style=\"text-align: right;\">\n",
        "      <th></th>\n",
        "      <th>movie_id</th>\n",
        "      <th>title</th>\n",
        "      <th>genres</th>\n",
        "    </tr>\n",
        "  </thead>\n",
        "  <tbody>\n",
        "    <tr>\n",
        "      <th>0</th>\n",
        "      <td> 1</td>\n",
        "      <td>                   Toy Story (1995)</td>\n",
        "      <td>  Animation|Children's|Comedy</td>\n",
        "    </tr>\n",
        "    <tr>\n",
        "      <th>1</th>\n",
        "      <td> 2</td>\n",
        "      <td>                     Jumanji (1995)</td>\n",
        "      <td> Adventure|Children's|Fantasy</td>\n",
        "    </tr>\n",
        "    <tr>\n",
        "      <th>2</th>\n",
        "      <td> 3</td>\n",
        "      <td>            Grumpier Old Men (1995)</td>\n",
        "      <td>               Comedy|Romance</td>\n",
        "    </tr>\n",
        "    <tr>\n",
        "      <th>3</th>\n",
        "      <td> 4</td>\n",
        "      <td>           Waiting to Exhale (1995)</td>\n",
        "      <td>                 Comedy|Drama</td>\n",
        "    </tr>\n",
        "    <tr>\n",
        "      <th>4</th>\n",
        "      <td> 5</td>\n",
        "      <td> Father of the Bride Part II (1995)</td>\n",
        "      <td>                       Comedy</td>\n",
        "    </tr>\n",
        "  </tbody>\n",
        "</table>\n",
        "</div>"
       ],
       "metadata": {},
       "output_type": "pyout",
       "prompt_number": 37,
       "text": [
        "   movie_id                               title                        genres\n",
        "0         1                    Toy Story (1995)   Animation|Children's|Comedy\n",
        "1         2                      Jumanji (1995)  Adventure|Children's|Fantasy\n",
        "2         3             Grumpier Old Men (1995)                Comedy|Romance\n",
        "3         4            Waiting to Exhale (1995)                  Comedy|Drama\n",
        "4         5  Father of the Bride Part II (1995)                        Comedy"
       ]
      }
     ],
     "prompt_number": 37
    },
    {
     "cell_type": "code",
     "collapsed": false,
     "input": [
      "ratings[0:5]"
     ],
     "language": "python",
     "metadata": {},
     "outputs": [
      {
       "html": [
        "<div style=\"max-height:1000px;max-width:1500px;overflow:auto;\">\n",
        "<table border=\"1\" class=\"dataframe\">\n",
        "  <thead>\n",
        "    <tr style=\"text-align: right;\">\n",
        "      <th></th>\n",
        "      <th>user_id</th>\n",
        "      <th>movie_id</th>\n",
        "      <th>rating</th>\n",
        "      <th>timestamp</th>\n",
        "    </tr>\n",
        "  </thead>\n",
        "  <tbody>\n",
        "    <tr>\n",
        "      <th>0</th>\n",
        "      <td> 1</td>\n",
        "      <td> 1193</td>\n",
        "      <td> 5</td>\n",
        "      <td> 978300760</td>\n",
        "    </tr>\n",
        "    <tr>\n",
        "      <th>1</th>\n",
        "      <td> 1</td>\n",
        "      <td>  661</td>\n",
        "      <td> 3</td>\n",
        "      <td> 978302109</td>\n",
        "    </tr>\n",
        "    <tr>\n",
        "      <th>2</th>\n",
        "      <td> 1</td>\n",
        "      <td>  914</td>\n",
        "      <td> 3</td>\n",
        "      <td> 978301968</td>\n",
        "    </tr>\n",
        "    <tr>\n",
        "      <th>3</th>\n",
        "      <td> 1</td>\n",
        "      <td> 3408</td>\n",
        "      <td> 4</td>\n",
        "      <td> 978300275</td>\n",
        "    </tr>\n",
        "    <tr>\n",
        "      <th>4</th>\n",
        "      <td> 1</td>\n",
        "      <td> 2355</td>\n",
        "      <td> 5</td>\n",
        "      <td> 978824291</td>\n",
        "    </tr>\n",
        "  </tbody>\n",
        "</table>\n",
        "</div>"
       ],
       "metadata": {},
       "output_type": "pyout",
       "prompt_number": 13,
       "text": [
        "   user_id  movie_id  rating  timestamp\n",
        "0        1      1193       5  978300760\n",
        "1        1       661       3  978302109\n",
        "2        1       914       3  978301968\n",
        "3        1      3408       4  978300275\n",
        "4        1      2355       5  978824291"
       ]
      }
     ],
     "prompt_number": 13
    },
    {
     "cell_type": "heading",
     "level": 3,
     "metadata": {},
     "source": [
      "1.1 Exemple: C\u00e0lcul de les puntuacions mitjanes per sexe i edat dels usuaris."
     ]
    },
    {
     "cell_type": "raw",
     "metadata": {},
     "source": [
      "Suposa que volem calcular les puntuacions mitjanes d'una pel\u00b7licula per sexe i edat. El primer pas a obtebir una \u00fanica estructura que contingui tota la informaci\u00f3. \n",
      "Per fer-ho podem usar la funci\u00f3 \"merge\" de pandas. Aquesta funci\u00f3 infereix autom\u00e0ticament quines columnes ha d'usar per fer el \"merge\" basant-se en els noms que fan interesecci\u00f3:"
     ]
    },
    {
     "cell_type": "code",
     "collapsed": false,
     "input": [
      "data = pd.merge(pd.merge(ratings, users), movies)\n",
      "print data[:10]"
     ],
     "language": "python",
     "metadata": {},
     "outputs": [
      {
       "output_type": "stream",
       "stream": "stdout",
       "text": [
        "   user_id  movie_id  rating  timestamp gender  age  occupation    zip  \\\n",
        "0        1      1193       5  978300760      F    1          10  48067   \n",
        "1        2      1193       5  978298413      M   56          16  70072   \n",
        "2       12      1193       4  978220179      M   25          12  32793   \n",
        "3       15      1193       4  978199279      M   25           7  22903   \n",
        "4       17      1193       5  978158471      M   50           1  95350   \n",
        "5       18      1193       4  978156168      F   18           3  95825   \n",
        "6       19      1193       5  982730936      M    1          10  48073   \n",
        "7       24      1193       5  978136709      F   25           7  10023   \n",
        "8       28      1193       3  978125194      F   25           1  14607   \n",
        "9       33      1193       5  978557765      M   45           3  55421   \n",
        "\n",
        "                                    title genres  \n",
        "0  One Flew Over the Cuckoo's Nest (1975)  Drama  \n",
        "1  One Flew Over the Cuckoo's Nest (1975)  Drama  \n",
        "2  One Flew Over the Cuckoo's Nest (1975)  Drama  \n",
        "3  One Flew Over the Cuckoo's Nest (1975)  Drama  \n",
        "4  One Flew Over the Cuckoo's Nest (1975)  Drama  \n",
        "5  One Flew Over the Cuckoo's Nest (1975)  Drama  \n",
        "6  One Flew Over the Cuckoo's Nest (1975)  Drama  \n",
        "7  One Flew Over the Cuckoo's Nest (1975)  Drama  \n",
        "8  One Flew Over the Cuckoo's Nest (1975)  Drama  \n",
        "9  One Flew Over the Cuckoo's Nest (1975)  Drama  \n"
       ]
      }
     ],
     "prompt_number": 38
    },
    {
     "cell_type": "raw",
     "metadata": {},
     "source": [
      "La funci\u00f3 \"ix\" ens permet obtenir un subconjunt de files i/o columnes:"
     ]
    },
    {
     "cell_type": "code",
     "collapsed": false,
     "input": [
      "print data.ix[1]"
     ],
     "language": "python",
     "metadata": {},
     "outputs": [
      {
       "output_type": "stream",
       "stream": "stdout",
       "text": [
        "user_id                                            2\n",
        "movie_id                                        1193\n",
        "rating                                             5\n",
        "timestamp                                  978298413\n",
        "gender                                             M\n",
        "age                                               56\n",
        "occupation                                        16\n",
        "zip                                            70072\n",
        "title         One Flew Over the Cuckoo's Nest (1975)\n",
        "genres                                         Drama\n",
        "Name: 1, dtype: object\n"
       ]
      }
     ],
     "prompt_number": 15
    },
    {
     "cell_type": "raw",
     "metadata": {},
     "source": [
      "Per obtenir les puntuacions mitjanes de cada pel\u00b7licula agrupada per g\u00e8nere podem usar el m\u00e8tode 'pivot_table':"
     ]
    },
    {
     "cell_type": "code",
     "collapsed": false,
     "input": [
      "mean_ratings = data.pivot_table('rating', rows='title',cols='gender', aggfunc='mean')\n",
      "mean_ratings[:10]"
     ],
     "language": "python",
     "metadata": {},
     "outputs": [
      {
       "html": [
        "<div style=\"max-height:1000px;max-width:1500px;overflow:auto;\">\n",
        "<table border=\"1\" class=\"dataframe\">\n",
        "  <thead>\n",
        "    <tr style=\"text-align: right;\">\n",
        "      <th>gender</th>\n",
        "      <th>F</th>\n",
        "      <th>M</th>\n",
        "    </tr>\n",
        "    <tr>\n",
        "      <th>title</th>\n",
        "      <th></th>\n",
        "      <th></th>\n",
        "    </tr>\n",
        "  </thead>\n",
        "  <tbody>\n",
        "    <tr>\n",
        "      <th>$1,000,000 Duck (1971)</th>\n",
        "      <td> 3.375000</td>\n",
        "      <td> 2.761905</td>\n",
        "    </tr>\n",
        "    <tr>\n",
        "      <th>'Night Mother (1986)</th>\n",
        "      <td> 3.388889</td>\n",
        "      <td> 3.352941</td>\n",
        "    </tr>\n",
        "    <tr>\n",
        "      <th>'Til There Was You (1997)</th>\n",
        "      <td> 2.675676</td>\n",
        "      <td> 2.733333</td>\n",
        "    </tr>\n",
        "    <tr>\n",
        "      <th>'burbs, The (1989)</th>\n",
        "      <td> 2.793478</td>\n",
        "      <td> 2.962085</td>\n",
        "    </tr>\n",
        "    <tr>\n",
        "      <th>...And Justice for All (1979)</th>\n",
        "      <td> 3.828571</td>\n",
        "      <td> 3.689024</td>\n",
        "    </tr>\n",
        "    <tr>\n",
        "      <th>1-900 (1994)</th>\n",
        "      <td> 2.000000</td>\n",
        "      <td> 3.000000</td>\n",
        "    </tr>\n",
        "    <tr>\n",
        "      <th>10 Things I Hate About You (1999)</th>\n",
        "      <td> 3.646552</td>\n",
        "      <td> 3.311966</td>\n",
        "    </tr>\n",
        "    <tr>\n",
        "      <th>101 Dalmatians (1961)</th>\n",
        "      <td> 3.791444</td>\n",
        "      <td> 3.500000</td>\n",
        "    </tr>\n",
        "    <tr>\n",
        "      <th>101 Dalmatians (1996)</th>\n",
        "      <td> 3.240000</td>\n",
        "      <td> 2.911215</td>\n",
        "    </tr>\n",
        "    <tr>\n",
        "      <th>12 Angry Men (1957)</th>\n",
        "      <td> 4.184397</td>\n",
        "      <td> 4.328421</td>\n",
        "    </tr>\n",
        "  </tbody>\n",
        "</table>\n",
        "</div>"
       ],
       "metadata": {},
       "output_type": "pyout",
       "prompt_number": 16,
       "text": [
        "gender                                    F         M\n",
        "title                                                \n",
        "$1,000,000 Duck (1971)             3.375000  2.761905\n",
        "'Night Mother (1986)               3.388889  3.352941\n",
        "'Til There Was You (1997)          2.675676  2.733333\n",
        "'burbs, The (1989)                 2.793478  2.962085\n",
        "...And Justice for All (1979)      3.828571  3.689024\n",
        "1-900 (1994)                       2.000000  3.000000\n",
        "10 Things I Hate About You (1999)  3.646552  3.311966\n",
        "101 Dalmatians (1961)              3.791444  3.500000\n",
        "101 Dalmatians (1996)              3.240000  2.911215\n",
        "12 Angry Men (1957)                4.184397  4.328421"
       ]
      }
     ],
     "prompt_number": 16
    },
    {
     "cell_type": "raw",
     "metadata": {},
     "source": [
      "Podem filtrar les pel\u00b7licules que han rebut al menys 250 puntuacions. Per fer-ho, agrupem les dades per t\u00edtol i usem \"size()\" per obtebir una s\u00e8rie de mides per cada t\u00edtol:"
     ]
    },
    {
     "cell_type": "code",
     "collapsed": false,
     "input": [
      "ratings_by_title = data.groupby('title').size()\n",
      "active_titles = ratings_by_title.index[ratings_by_title >= 250]"
     ],
     "language": "python",
     "metadata": {},
     "outputs": [],
     "prompt_number": 17
    },
    {
     "cell_type": "raw",
     "metadata": {},
     "source": [
      "L'\u00edndex de t\u00edtols que reben al menys 250 puntuacions es pot fer servir per seleccionar les files de \"mean_ratings\": "
     ]
    },
    {
     "cell_type": "code",
     "collapsed": false,
     "input": [
      "mean_ratings = mean_ratings.ix[active_titles]\n",
      "mean_ratings[:10]"
     ],
     "language": "python",
     "metadata": {},
     "outputs": [
      {
       "html": [
        "<div style=\"max-height:1000px;max-width:1500px;overflow:auto;\">\n",
        "<table border=\"1\" class=\"dataframe\">\n",
        "  <thead>\n",
        "    <tr style=\"text-align: right;\">\n",
        "      <th>gender</th>\n",
        "      <th>F</th>\n",
        "      <th>M</th>\n",
        "    </tr>\n",
        "    <tr>\n",
        "      <th>title</th>\n",
        "      <th></th>\n",
        "      <th></th>\n",
        "    </tr>\n",
        "  </thead>\n",
        "  <tbody>\n",
        "    <tr>\n",
        "      <th>'burbs, The (1989)</th>\n",
        "      <td> 2.793478</td>\n",
        "      <td> 2.962085</td>\n",
        "    </tr>\n",
        "    <tr>\n",
        "      <th>10 Things I Hate About You (1999)</th>\n",
        "      <td> 3.646552</td>\n",
        "      <td> 3.311966</td>\n",
        "    </tr>\n",
        "    <tr>\n",
        "      <th>101 Dalmatians (1961)</th>\n",
        "      <td> 3.791444</td>\n",
        "      <td> 3.500000</td>\n",
        "    </tr>\n",
        "    <tr>\n",
        "      <th>101 Dalmatians (1996)</th>\n",
        "      <td> 3.240000</td>\n",
        "      <td> 2.911215</td>\n",
        "    </tr>\n",
        "    <tr>\n",
        "      <th>12 Angry Men (1957)</th>\n",
        "      <td> 4.184397</td>\n",
        "      <td> 4.328421</td>\n",
        "    </tr>\n",
        "    <tr>\n",
        "      <th>13th Warrior, The (1999)</th>\n",
        "      <td> 3.112000</td>\n",
        "      <td> 3.168000</td>\n",
        "    </tr>\n",
        "    <tr>\n",
        "      <th>2 Days in the Valley (1996)</th>\n",
        "      <td> 3.488889</td>\n",
        "      <td> 3.244813</td>\n",
        "    </tr>\n",
        "    <tr>\n",
        "      <th>20,000 Leagues Under the Sea (1954)</th>\n",
        "      <td> 3.670103</td>\n",
        "      <td> 3.709205</td>\n",
        "    </tr>\n",
        "    <tr>\n",
        "      <th>2001: A Space Odyssey (1968)</th>\n",
        "      <td> 3.825581</td>\n",
        "      <td> 4.129738</td>\n",
        "    </tr>\n",
        "    <tr>\n",
        "      <th>2010 (1984)</th>\n",
        "      <td> 3.446809</td>\n",
        "      <td> 3.413712</td>\n",
        "    </tr>\n",
        "  </tbody>\n",
        "</table>\n",
        "</div>"
       ],
       "metadata": {},
       "output_type": "pyout",
       "prompt_number": 83,
       "text": [
        "gender                                      F         M\n",
        "title                                                  \n",
        "'burbs, The (1989)                   2.793478  2.962085\n",
        "10 Things I Hate About You (1999)    3.646552  3.311966\n",
        "101 Dalmatians (1961)                3.791444  3.500000\n",
        "101 Dalmatians (1996)                3.240000  2.911215\n",
        "12 Angry Men (1957)                  4.184397  4.328421\n",
        "13th Warrior, The (1999)             3.112000  3.168000\n",
        "2 Days in the Valley (1996)          3.488889  3.244813\n",
        "20,000 Leagues Under the Sea (1954)  3.670103  3.709205\n",
        "2001: A Space Odyssey (1968)         3.825581  4.129738\n",
        "2010 (1984)                          3.446809  3.413712"
       ]
      }
     ],
     "prompt_number": 83
    },
    {
     "cell_type": "raw",
     "metadata": {},
     "source": [
      "Per veure els films m\u00e9s valorats per les dones, podem ordenar per la columna F de forma descendent:"
     ]
    },
    {
     "cell_type": "code",
     "collapsed": false,
     "input": [
      "top_female_ratings = mean_ratings.sort_index(by='F', ascending=False)\n",
      "top_female_ratings[:10]"
     ],
     "language": "python",
     "metadata": {},
     "outputs": [
      {
       "html": [
        "<div style=\"max-height:1000px;max-width:1500px;overflow:auto;\">\n",
        "<table border=\"1\" class=\"dataframe\">\n",
        "  <thead>\n",
        "    <tr style=\"text-align: right;\">\n",
        "      <th>gender</th>\n",
        "      <th>F</th>\n",
        "      <th>M</th>\n",
        "    </tr>\n",
        "    <tr>\n",
        "      <th>title</th>\n",
        "      <th></th>\n",
        "      <th></th>\n",
        "    </tr>\n",
        "  </thead>\n",
        "  <tbody>\n",
        "    <tr>\n",
        "      <th>Get Over It (1996)</th>\n",
        "      <td>NaN</td>\n",
        "      <td> 1.000000</td>\n",
        "    </tr>\n",
        "    <tr>\n",
        "      <th>Lay of the Land, The (1997)</th>\n",
        "      <td>NaN</td>\n",
        "      <td> 2.000000</td>\n",
        "    </tr>\n",
        "    <tr>\n",
        "      <th>War at Home, The (1996)</th>\n",
        "      <td>NaN</td>\n",
        "      <td> 2.500000</td>\n",
        "    </tr>\n",
        "    <tr>\n",
        "      <th>Night Tide (1961)</th>\n",
        "      <td>NaN</td>\n",
        "      <td> 2.000000</td>\n",
        "    </tr>\n",
        "    <tr>\n",
        "      <th>Back Stage (2000)</th>\n",
        "      <td>NaN</td>\n",
        "      <td> 3.000000</td>\n",
        "    </tr>\n",
        "    <tr>\n",
        "      <th>Diebinnen (1995)</th>\n",
        "      <td>NaN</td>\n",
        "      <td> 1.000000</td>\n",
        "    </tr>\n",
        "    <tr>\n",
        "      <th>Waltzes from Vienna (1933)</th>\n",
        "      <td>NaN</td>\n",
        "      <td> 1.000000</td>\n",
        "    </tr>\n",
        "    <tr>\n",
        "      <th>Baby, The (1973)</th>\n",
        "      <td>NaN</td>\n",
        "      <td> 5.000000</td>\n",
        "    </tr>\n",
        "    <tr>\n",
        "      <th>Pot O' Gold (1941)</th>\n",
        "      <td>NaN</td>\n",
        "      <td> 2.428571</td>\n",
        "    </tr>\n",
        "    <tr>\n",
        "      <th>Walking Dead, The (1995)</th>\n",
        "      <td>NaN</td>\n",
        "      <td> 2.684211</td>\n",
        "    </tr>\n",
        "  </tbody>\n",
        "</table>\n",
        "</div>"
       ],
       "metadata": {},
       "output_type": "pyout",
       "prompt_number": 18,
       "text": [
        "gender                        F         M\n",
        "title                                    \n",
        "Get Over It (1996)          NaN  1.000000\n",
        "Lay of the Land, The (1997) NaN  2.000000\n",
        "War at Home, The (1996)     NaN  2.500000\n",
        "Night Tide (1961)           NaN  2.000000\n",
        "Back Stage (2000)           NaN  3.000000\n",
        "Diebinnen (1995)            NaN  1.000000\n",
        "Waltzes from Vienna (1933)  NaN  1.000000\n",
        "Baby, The (1973)            NaN  5.000000\n",
        "Pot O' Gold (1941)          NaN  2.428571\n",
        "Walking Dead, The (1995)    NaN  2.684211"
       ]
      }
     ],
     "prompt_number": 18
    },
    {
     "cell_type": "raw",
     "metadata": {},
     "source": [
      "Suposem ara que volem les pel\u00b7licules que estan valorades de forma m\u00e9s diferent entre homes i dones. Una forma d'obtenir-ho \u00e9s afegir una columna a \"mean_ratings\" que contingui la difer\u00e8ncia en mitjana i llavors ordenar:"
     ]
    },
    {
     "cell_type": "code",
     "collapsed": false,
     "input": [
      "mean_ratings['diff'] = mean_ratings['M'] - mean_ratings['F']"
     ],
     "language": "python",
     "metadata": {},
     "outputs": [],
     "prompt_number": 19
    },
    {
     "cell_type": "raw",
     "metadata": {},
     "source": [
      "Ordenant per 'diff' ens d\u00f3na les pel\u00b7licules amb valoraci\u00f3 m\u00e9s diferent i que s\u00f3n ben valorades per les dones:"
     ]
    },
    {
     "cell_type": "code",
     "collapsed": false,
     "input": [
      "sorted_by_diff = mean_ratings.sort_index(by='diff')\n",
      "sorted_by_diff[:15]"
     ],
     "language": "python",
     "metadata": {},
     "outputs": [
      {
       "html": [
        "<div style=\"max-height:1000px;max-width:1500px;overflow:auto;\">\n",
        "<table border=\"1\" class=\"dataframe\">\n",
        "  <thead>\n",
        "    <tr style=\"text-align: right;\">\n",
        "      <th>gender</th>\n",
        "      <th>F</th>\n",
        "      <th>M</th>\n",
        "      <th>diff</th>\n",
        "    </tr>\n",
        "    <tr>\n",
        "      <th>title</th>\n",
        "      <th></th>\n",
        "      <th></th>\n",
        "      <th></th>\n",
        "    </tr>\n",
        "  </thead>\n",
        "  <tbody>\n",
        "    <tr>\n",
        "      <th>Country Life (1994)</th>\n",
        "      <td> 5.000000</td>\n",
        "      <td> 2.000000</td>\n",
        "      <td>-3.000000</td>\n",
        "    </tr>\n",
        "    <tr>\n",
        "      <th>James Dean Story, The (1957)</th>\n",
        "      <td> 4.000000</td>\n",
        "      <td> 1.000000</td>\n",
        "      <td>-3.000000</td>\n",
        "    </tr>\n",
        "    <tr>\n",
        "      <th>Spiders, The (Die Spinnen, 1. Teil: Der Goldene See) (1919)</th>\n",
        "      <td> 4.000000</td>\n",
        "      <td> 1.000000</td>\n",
        "      <td>-3.000000</td>\n",
        "    </tr>\n",
        "    <tr>\n",
        "      <th>Babyfever (1994)</th>\n",
        "      <td> 3.666667</td>\n",
        "      <td> 1.000000</td>\n",
        "      <td>-2.666667</td>\n",
        "    </tr>\n",
        "    <tr>\n",
        "      <th>Woman of Paris, A (1923)</th>\n",
        "      <td> 5.000000</td>\n",
        "      <td> 2.428571</td>\n",
        "      <td>-2.571429</td>\n",
        "    </tr>\n",
        "    <tr>\n",
        "      <th>Cobra (1925)</th>\n",
        "      <td> 4.000000</td>\n",
        "      <td> 1.500000</td>\n",
        "      <td>-2.500000</td>\n",
        "    </tr>\n",
        "    <tr>\n",
        "      <th>Other Side of Sunday, The (S\ufffdndagsengler) (1996)</th>\n",
        "      <td> 5.000000</td>\n",
        "      <td> 2.928571</td>\n",
        "      <td>-2.071429</td>\n",
        "    </tr>\n",
        "    <tr>\n",
        "      <th>Belly (1998)</th>\n",
        "      <td> 5.000000</td>\n",
        "      <td> 3.000000</td>\n",
        "      <td>-2.000000</td>\n",
        "    </tr>\n",
        "    <tr>\n",
        "      <th>Coming Apart (1969)</th>\n",
        "      <td> 4.000000</td>\n",
        "      <td> 2.000000</td>\n",
        "      <td>-2.000000</td>\n",
        "    </tr>\n",
        "    <tr>\n",
        "      <th>Separation, The (La S\ufffdparation) (1994)</th>\n",
        "      <td> 4.000000</td>\n",
        "      <td> 2.000000</td>\n",
        "      <td>-2.000000</td>\n",
        "    </tr>\n",
        "    <tr>\n",
        "      <th>To Have, or Not (1995)</th>\n",
        "      <td> 4.000000</td>\n",
        "      <td> 2.000000</td>\n",
        "      <td>-2.000000</td>\n",
        "    </tr>\n",
        "    <tr>\n",
        "      <th>Crude Oasis, The (1995)</th>\n",
        "      <td> 3.000000</td>\n",
        "      <td> 1.000000</td>\n",
        "      <td>-2.000000</td>\n",
        "    </tr>\n",
        "    <tr>\n",
        "      <th>Phat Beach (1996)</th>\n",
        "      <td> 3.000000</td>\n",
        "      <td> 1.000000</td>\n",
        "      <td>-2.000000</td>\n",
        "    </tr>\n",
        "    <tr>\n",
        "      <th>Mad Dog Time (1996)</th>\n",
        "      <td> 4.000000</td>\n",
        "      <td> 2.000000</td>\n",
        "      <td>-2.000000</td>\n",
        "    </tr>\n",
        "    <tr>\n",
        "      <th>Theodore Rex (1995)</th>\n",
        "      <td> 3.000000</td>\n",
        "      <td> 1.000000</td>\n",
        "      <td>-2.000000</td>\n",
        "    </tr>\n",
        "  </tbody>\n",
        "</table>\n",
        "</div>"
       ],
       "metadata": {},
       "output_type": "pyout",
       "prompt_number": 20,
       "text": [
        "gender                                                              F         M      diff\n",
        "title                                                                                    \n",
        "Country Life (1994)                                          5.000000  2.000000 -3.000000\n",
        "James Dean Story, The (1957)                                 4.000000  1.000000 -3.000000\n",
        "Spiders, The (Die Spinnen, 1. Teil: Der Goldene See) (1919)  4.000000  1.000000 -3.000000\n",
        "Babyfever (1994)                                             3.666667  1.000000 -2.666667\n",
        "Woman of Paris, A (1923)                                     5.000000  2.428571 -2.571429\n",
        "Cobra (1925)                                                 4.000000  1.500000 -2.500000\n",
        "Other Side of Sunday, The (S\ufffdndagsengler) (1996)             5.000000  2.928571 -2.071429\n",
        "Belly (1998)                                                 5.000000  3.000000 -2.000000\n",
        "Coming Apart (1969)                                          4.000000  2.000000 -2.000000\n",
        "Separation, The (La S\ufffdparation) (1994)                       4.000000  2.000000 -2.000000\n",
        "To Have, or Not (1995)                                       4.000000  2.000000 -2.000000\n",
        "Crude Oasis, The (1995)                                      3.000000  1.000000 -2.000000\n",
        "Phat Beach (1996)                                            3.000000  1.000000 -2.000000\n",
        "Mad Dog Time (1996)                                          4.000000  2.000000 -2.000000\n",
        "Theodore Rex (1995)                                          3.000000  1.000000 -2.000000"
       ]
      }
     ],
     "prompt_number": 20
    },
    {
     "cell_type": "raw",
     "metadata": {},
     "source": [
      "Invertint l'ordre de les files i fent un \"slicing\" de les 15 files superiors obtenim les pel\u00b7licules preferides pels homes que no han agradat a les dones: "
     ]
    },
    {
     "cell_type": "code",
     "collapsed": false,
     "input": [
      "sorted_by_diff[::-1][:15]"
     ],
     "language": "python",
     "metadata": {},
     "outputs": [
      {
       "html": [
        "<div style=\"max-height:1000px;max-width:1500px;overflow:auto;\">\n",
        "<table border=\"1\" class=\"dataframe\">\n",
        "  <thead>\n",
        "    <tr style=\"text-align: right;\">\n",
        "      <th>gender</th>\n",
        "      <th>F</th>\n",
        "      <th>M</th>\n",
        "      <th>diff</th>\n",
        "    </tr>\n",
        "    <tr>\n",
        "      <th>title</th>\n",
        "      <th></th>\n",
        "      <th></th>\n",
        "      <th></th>\n",
        "    </tr>\n",
        "  </thead>\n",
        "  <tbody>\n",
        "    <tr>\n",
        "      <th>Everything Relative (1996)</th>\n",
        "      <td>  4</td>\n",
        "      <td>      NaN</td>\n",
        "      <td>NaN</td>\n",
        "    </tr>\n",
        "    <tr>\n",
        "      <th>Running Free (2000)</th>\n",
        "      <td>NaN</td>\n",
        "      <td> 4.000000</td>\n",
        "      <td>NaN</td>\n",
        "    </tr>\n",
        "    <tr>\n",
        "      <th>Baby, The (1973)</th>\n",
        "      <td>NaN</td>\n",
        "      <td> 5.000000</td>\n",
        "      <td>NaN</td>\n",
        "    </tr>\n",
        "    <tr>\n",
        "      <th>Last Klezmer: Leopold Kozlowski, His Life and Music, The (1995)</th>\n",
        "      <td>NaN</td>\n",
        "      <td> 3.500000</td>\n",
        "      <td>NaN</td>\n",
        "    </tr>\n",
        "    <tr>\n",
        "      <th>Follow the Bitch (1998)</th>\n",
        "      <td>NaN</td>\n",
        "      <td> 5.000000</td>\n",
        "      <td>NaN</td>\n",
        "    </tr>\n",
        "    <tr>\n",
        "      <th>Back Stage (2000)</th>\n",
        "      <td>NaN</td>\n",
        "      <td> 3.000000</td>\n",
        "      <td>NaN</td>\n",
        "    </tr>\n",
        "    <tr>\n",
        "      <th>Sleepover (1995)</th>\n",
        "      <td>NaN</td>\n",
        "      <td> 1.000000</td>\n",
        "      <td>NaN</td>\n",
        "    </tr>\n",
        "    <tr>\n",
        "      <th>Run of the Country, The (1995)</th>\n",
        "      <td>NaN</td>\n",
        "      <td> 3.500000</td>\n",
        "      <td>NaN</td>\n",
        "    </tr>\n",
        "    <tr>\n",
        "      <th>Those Who Love Me Can Take the Train (Ceux qui m'aiment prendront le train) (1998)</th>\n",
        "      <td>NaN</td>\n",
        "      <td> 2.777778</td>\n",
        "      <td>NaN</td>\n",
        "    </tr>\n",
        "    <tr>\n",
        "      <th>Love Walked In (1998)</th>\n",
        "      <td>NaN</td>\n",
        "      <td> 2.000000</td>\n",
        "      <td>NaN</td>\n",
        "    </tr>\n",
        "    <tr>\n",
        "      <th>Lotto Land (1995)</th>\n",
        "      <td>NaN</td>\n",
        "      <td> 1.000000</td>\n",
        "      <td>NaN</td>\n",
        "    </tr>\n",
        "    <tr>\n",
        "      <th>Peanuts - Die Bank zahlt alles (1996)</th>\n",
        "      <td>NaN</td>\n",
        "      <td> 2.000000</td>\n",
        "      <td>NaN</td>\n",
        "    </tr>\n",
        "    <tr>\n",
        "      <th>Boy Called Hate, A (1995)</th>\n",
        "      <td>NaN</td>\n",
        "      <td> 3.000000</td>\n",
        "      <td>NaN</td>\n",
        "    </tr>\n",
        "    <tr>\n",
        "      <th>Slaughterhouse (1987)</th>\n",
        "      <td>NaN</td>\n",
        "      <td> 1.500000</td>\n",
        "      <td>NaN</td>\n",
        "    </tr>\n",
        "    <tr>\n",
        "      <th>Born to Win (1971)</th>\n",
        "      <td>NaN</td>\n",
        "      <td> 2.500000</td>\n",
        "      <td>NaN</td>\n",
        "    </tr>\n",
        "  </tbody>\n",
        "</table>\n",
        "</div>"
       ],
       "metadata": {},
       "output_type": "pyout",
       "prompt_number": 21,
       "text": [
        "gender                                                                               F         M  diff\n",
        "title                                                                                                 \n",
        "Everything Relative (1996)                                                           4       NaN   NaN\n",
        "Running Free (2000)                                                                NaN  4.000000   NaN\n",
        "Baby, The (1973)                                                                   NaN  5.000000   NaN\n",
        "Last Klezmer: Leopold Kozlowski, His Life and Music, The (1995)                    NaN  3.500000   NaN\n",
        "Follow the Bitch (1998)                                                            NaN  5.000000   NaN\n",
        "Back Stage (2000)                                                                  NaN  3.000000   NaN\n",
        "Sleepover (1995)                                                                   NaN  1.000000   NaN\n",
        "Run of the Country, The (1995)                                                     NaN  3.500000   NaN\n",
        "Those Who Love Me Can Take the Train (Ceux qui m'aiment prendront le train) (1998) NaN  2.777778   NaN\n",
        "Love Walked In (1998)                                                              NaN  2.000000   NaN\n",
        "Lotto Land (1995)                                                                  NaN  1.000000   NaN\n",
        "Peanuts - Die Bank zahlt alles (1996)                                              NaN  2.000000   NaN\n",
        "Boy Called Hate, A (1995)                                                          NaN  3.000000   NaN\n",
        "Slaughterhouse (1987)                                                              NaN  1.500000   NaN\n",
        "Born to Win (1971)                                                                 NaN  2.500000   NaN"
       ]
      }
     ],
     "prompt_number": 21
    },
    {
     "cell_type": "raw",
     "metadata": {},
     "source": [
      "Si volgu\u00e9ssim les pel\u00b7licules que han generat puntuacions m\u00e9s discordants, independentment del g\u00e8nere, podem fer servir la varian\u00e7a o la desviaci\u00f3 est\u00e0ndard de les puntuacions: "
     ]
    },
    {
     "cell_type": "code",
     "collapsed": false,
     "input": [
      "# Standard deviation of rating grouped by title\n",
      "rating_std_by_title = data.groupby('title')['rating'].std()\n",
      "# Filter down to active_titles\n",
      "rating_std_by_title = rating_std_by_title.ix[active_titles]\n",
      "rating_std_by_title.order(ascending=False)[:10]"
     ],
     "language": "python",
     "metadata": {},
     "outputs": [
      {
       "metadata": {},
       "output_type": "pyout",
       "prompt_number": 22,
       "text": [
        "title\n",
        "Dumb & Dumber (1994)                     1.321333\n",
        "Blair Witch Project, The (1999)          1.316368\n",
        "Natural Born Killers (1994)              1.307198\n",
        "Tank Girl (1995)                         1.277695\n",
        "Rocky Horror Picture Show, The (1975)    1.260177\n",
        "Eyes Wide Shut (1999)                    1.259624\n",
        "Evita (1996)                             1.253631\n",
        "Billy Madison (1995)                     1.249970\n",
        "Fear and Loathing in Las Vegas (1998)    1.246408\n",
        "Bicentennial Man (1999)                  1.245533\n",
        "Name: rating, dtype: float64"
       ]
      }
     ],
     "prompt_number": 22
    },
    {
     "cell_type": "markdown",
     "metadata": {},
     "source": [
      "<b> EXERCICI 1:</b>\n",
      "Calcula la puntuaci\u00f3 mitjana de cada usuari. Quina \u00e9s la pel\u00b7l\u00edcula m\u00e9s ben puntuada? "
     ]
    },
    {
     "cell_type": "code",
     "collapsed": false,
     "input": [
      "# mean_rating_by_user ha de ser un dataframe que cont\u00e9 el nom del usuari i la mitja de les seves puntuacions\n",
      "mean_rating_by_user = data.groupby('user_id')['rating'].mean()\n",
      "print mean_rating_by_user[:10]\n",
      "\n",
      "# critic_higher_mean ha de ser el registre de l'usuari amb la mitja m\u00e9s elevada\n",
      "# argmax() -> D\u00f3na posici\u00f3 que t\u00e9 el m\u00e0xim\n",
      "mean_rating_by_movie = data.groupby('title')['rating'].mean()\n",
      "print #introdeixo una linia en blanc per a tenir un display dels resultats mes \u00f3ptim\n",
      "print mean_rating_by_movie.index[mean_rating_by_movie.argmax()]"
     ],
     "language": "python",
     "metadata": {},
     "outputs": [
      {
       "output_type": "stream",
       "stream": "stdout",
       "text": [
        "user_id\n",
        "1          4.188679\n",
        "2          3.713178\n",
        "3          3.901961\n",
        "4          4.190476\n",
        "5          3.146465\n",
        "6          3.901408\n",
        "7          4.322581\n",
        "8          3.884892\n",
        "9          3.735849\n",
        "10         4.114713\n",
        "Name: rating, dtype: float64\n",
        "\n"
       ]
      },
      {
       "output_type": "stream",
       "stream": "stdout",
       "text": [
        "Baby, The (1973)\n"
       ]
      }
     ],
     "prompt_number": 49
    },
    {
     "cell_type": "markdown",
     "metadata": {},
     "source": [
      "<b>EXERCICI 2:</b> Defineix una funci\u00f3 anomenada <b>top_movie</b> que donat un usuari ens retorni quina \u00e9s la pel\u00b7l\u00edcula millor puntuada.<br> \n",
      "def top_movie(user)\n"
     ]
    },
    {
     "cell_type": "code",
     "collapsed": false,
     "input": [
      "def top_movie(dataFrame,usr):\n",
      "    usuari = dataFrame[dataFrame['user_id'] == usr]\n",
      "    pos_rel = usuari['rating'].argmax() #Obtenim, amb argmax, la posicio numerica dintre de la taula d'usuari del m\u00e0xim\n",
      "    pos_abs = usuari.index[pos_rel] #Obtenim el valor de l'index d'aquesta posicio relativa\n",
      "    return usuari.ix[pos_abs]['title'] #Retornem aquest index, nom\u00e9s el titol de la pelicula\n",
      "\n",
      "print\n",
      "print top_movie(data,1)"
     ],
     "language": "python",
     "metadata": {},
     "outputs": [
      {
       "output_type": "stream",
       "stream": "stdout",
       "text": [
        "\n",
        "One Flew Over the Cuckoo's Nest (1975)\n",
        "\n",
        "One Flew Over the Cuckoo's Nest (1975)\n",
        "\n",
        "Wizard of Oz, The (1939)\n",
        "\n",
        "Christmas Story, A (1983)"
       ]
      },
      {
       "output_type": "stream",
       "stream": "stdout",
       "text": [
        "\n"
       ]
      }
     ],
     "prompt_number": 33
    },
    {
     "cell_type": "heading",
     "level": 3,
     "metadata": {},
     "source": [
      "1.2 Construcci\u00f3 d'un recomanador."
     ]
    },
    {
     "cell_type": "markdown",
     "metadata": {},
     "source": [
      "<b>Exercici 3: </b>\n",
      "\n",
      "Construeix dues funcions, <b>distEuclid(x,y)</b> i <b>coefPearson(x,y)</b>, que implementin la dist\u00e0ncia Euclidiana i el coeficient de correlaci\u00f3 de Pearson entre dos vectors. Escriu les funcions que calculin la semblan\u00e7a entre dos usuaris segons aquesta estructura:\n",
      "\n",
      "<b>def SimEuclid (DataFrame, User1, User2)</b>\n",
      "    Calcular els vectors representatius de cada usuari, C1 i C2, amb les puntuacions dels \u00edtems comuns que han puntuat el dos usuaris.<br>\n",
      "    Si no hi ha puntuacions en com\u00fa, retornar 0.\n",
      "    Retornar 1/(1+distEuclid(C1, C2))<br>\n",
      "    \n",
      "<b>def SimPearson (DataFrame, User1, User2)</b>\n",
      "    Calcular els vectors representatius de cada usuari, C1 i C2, amb les puntuacions dels \u00edtems comuns que han puntuat el dos usuaris.<br>\n",
      "    Si no hi ha puntuacions en com\u00fa, retornar 0.>\n",
      "    Retornar coefPearson(C1,C2)<br>\n",
      "    \n",
      "\n",
      "<b>Utilizeu el panda per a realitzaci\u00f3 d'aquest exercici.</b>"
     ]
    },
    {
     "cell_type": "code",
     "collapsed": false,
     "input": [
      "import math\n",
      "import numpy as np\n",
      "import pandas as pd\n",
      "\n",
      "\n",
      "# Returns the euclidean distance of to vectors\n",
      "def distEuclid(x, y):\n",
      "    #Funci\u00f3 sense list comprehensions. S'hauria de fer amb.\n",
      "    if len(x) != len(y):\n",
      "        return -1\n",
      "    return math.sqrt(sum( (a - b)**2 for a, b in zip(x, y)))\n",
      "\n",
      " # Returns the euclidean pearson of to vectors \n",
      "def coefPearson(x, y):\n",
      "    mitjaX = np.mean(x)\n",
      "    mitjaY = np.mean(y)\n",
      "    numerador = 0\n",
      "    denominadorX = 0\n",
      "    denominadorY = 0\n",
      "    for i in range(len(x)):\n",
      "        numerador += (x[i] - mitjaX) * (y[i] - mitjaY)\n",
      "        denominadorX += (x[i] - mitjaX)**2\n",
      "        denominadorY += (y[i] - mitjaY)**2\n",
      "    res = numerador/(math.sqrt(denominadorX)*math.sqrt(denominadorY))\n",
      "    if math.isnan(res): return 0\n",
      "    return res\n",
      "        \n",
      "# Returns a distance-based similarity score for person1 and person2 based on euclidean distance\n",
      "def SimEuclid(DataFrame,User1,User2):\n",
      "    tauUsr1 = DataFrame.merge\n",
      "    \n",
      "    return 0\n",
      "\n",
      "\n",
      "# Returns a distance-based similarity score for person1 and person2 based on pearson distance\n",
      "def SimPearson(DataFrame,User1,User2):\n",
      "    return 0\n"
     ],
     "language": "python",
     "metadata": {},
     "outputs": [
      {
       "output_type": "stream",
       "stream": "stdout",
       "text": [
        "-1.0\n"
       ]
      }
     ],
     "prompt_number": 29
    },
    {
     "cell_type": "code",
     "collapsed": false,
     "input": [
      "# Execute functions\n",
      "print SimEuclid(data,1,2)\n",
      "print SimPearson(data,1,2)"
     ],
     "language": "python",
     "metadata": {},
     "outputs": [
      {
       "output_type": "stream",
       "stream": "stdout",
       "text": [
        "0\n",
        "0\n"
       ]
      }
     ],
     "prompt_number": 96
    },
    {
     "cell_type": "markdown",
     "metadata": {},
     "source": [
      "<b>Exercici 4:</b>\n",
      "\n",
      "Feu dues funcions, <b>getNBestEuclid(DataFrame, user,n)</b> i <b>getNBestPearson(DataFrame, user,n)</b>, que retornin els n usuaris m\u00e9s semblants segons aquestes dues mesures de similitud."
     ]
    },
    {
     "cell_type": "code",
     "collapsed": false,
     "input": [
      "# return the N most similar users to given used based on euclidean distance\n",
      "def getNBestEuclid(DataFrame,user,n):\n",
      "    return 0\n",
      "\n",
      "# return the N most similar users to given used based on pearson distance\n",
      "def getNBestPearson(DataFrame,user,n):\n",
      "    return 0"
     ],
     "language": "python",
     "metadata": {},
     "outputs": [],
     "prompt_number": 97
    },
    {
     "cell_type": "code",
     "collapsed": false,
     "input": [
      "# EXECUTE FUNCTIONS\n",
      "print getNBestEuclid(data,1,5)\n",
      "print getNBestPearson(data,1,5)\n",
      "\n"
     ],
     "language": "python",
     "metadata": {},
     "outputs": [
      {
       "output_type": "stream",
       "stream": "stdout",
       "text": [
        "0\n",
        "0\n"
       ]
      }
     ],
     "prompt_number": 98
    },
    {
     "cell_type": "markdown",
     "metadata": {},
     "source": [
      "<b>Exercici 5:</b>\n",
      "\n",
      "Desenvolupa un sistema de recomanaci\u00f3 col\u00b7laboratiu basat en usuaris. La funci\u00f3 principal, <b>getRecommendationsUser</b>, ha de tenir com a entrada una taula de puntuacions, un \"user_id\", el tipus de mesura de semblan\u00e7a (Euclidiana o Pearson) que volem usar i el nombre n m\u00e0xim de recomanacions que volem. Com a sortida ha de donar la llista de les 5 millors pel\u00b7l\u00edcules que li podriem recomanar segons la seva semblan\u00e7a amb altres usuaris.\n",
      "\n",
      "Nota: S'ha d'evitar comparar \"user_id\" a ell mateix."
     ]
    },
    {
     "cell_type": "code",
     "collapsed": false,
     "input": [
      "# Gets recommendations for a person by using a weighted average\n",
      "# of every other user's rankings\n",
      "def getRecommendationsUser(DataFrame,person,n,similarity=SimPearson):\n",
      "   return 0"
     ],
     "language": "python",
     "metadata": {},
     "outputs": [],
     "prompt_number": 99
    },
    {
     "cell_type": "code",
     "collapsed": false,
     "input": [
      "getRecommendationsUser(data, 2, 10,SimEuclid)"
     ],
     "language": "python",
     "metadata": {},
     "outputs": [
      {
       "metadata": {},
       "output_type": "pyout",
       "prompt_number": 100,
       "text": [
        "0"
       ]
      }
     ],
     "prompt_number": 100
    },
    {
     "cell_type": "markdown",
     "metadata": {},
     "source": [
      "<b>Exercici 6:</b>\n",
      "\n",
      "Desenvolupa un sistema de recomanaci\u00f3 col\u00b7laboratiu basat en \u00edtems. \n",
      "\n",
      "Primer, escriu una funci\u00f3 <b>CalcSimItems(DataFrame)</b>, que construeixi i retorni una taula, itemsim, amb les semblances entre els \u00edtems.\n",
      "Despr\u00e9s escriu la funci\u00f3 principal, <b>getRecommendationsItem(DataFrame, itemsim, user, n)</b>, ha de tenir com a entrada les puntuacions dels usuaris, la taula de semblan\u00e7a entre \u00edtems, un \"user_id\" i el nombre n m\u00e0xim de recomanacions que volem. Com a sortida ha de donar les n millors pel\u00b7l\u00edcules."
     ]
    },
    {
     "cell_type": "code",
     "collapsed": false,
     "input": [
      "def CalcSimItems(DataFrame):\n",
      "    return 0\n",
      "def getRecommendationsItem(data1, itemsim, usr, n,similarity=SimPearson):\n",
      "    return 0"
     ],
     "language": "python",
     "metadata": {},
     "outputs": [],
     "prompt_number": 101
    },
    {
     "cell_type": "code",
     "collapsed": false,
     "input": [
      "#Executions\n",
      "itemsim=CalcSimItems(data)\n",
      "getRecommendationsItem(data, itemsim, 1, 10)"
     ],
     "language": "python",
     "metadata": {},
     "outputs": [
      {
       "metadata": {},
       "output_type": "pyout",
       "prompt_number": 102,
       "text": [
        "0"
       ]
      }
     ],
     "prompt_number": 102
    },
    {
     "cell_type": "markdown",
     "metadata": {},
     "source": [
      "<b>Exercici 7:</b> Creu una funcio, <b>EvaluateRecommendationsUser(DataFrame,DataFrameTest,similarity=SimPearson)</b>, que donat un conjunt de dades d'entrenament i un conjunt de dades de test ens avalua la precisi\u00f3 dels sistema.\n",
      "Per a cadascun dels elements del conjunt de test haurem de pronosticar el seu valor i comparar-lo amb el valor real que l'usuari li ha asignat.<br> Els mesura que utilizarem per avaluar el sistema \u00e9s la seg\u00fcent:\n",
      "$$accuracy = 1/N\\sum_{i=0}^N  abs(rating_i - rating_i^*) $$ on rating \u00e9s la puntauci\u00f3 real que l'usuari va asginar a la pel\u00b7l\u00edcula i rating* \u00e9s el valor pronoticat pel sistema de recomanacio desenvolupat.\n"
     ]
    },
    {
     "cell_type": "code",
     "collapsed": false,
     "input": [
      "# evaluate the recomender given a training and a testing set. Return the accuracy of the system \n",
      "def EvaluateRecommendationsUser(DataFrame,DataFrameTest,similarity=SimPearson):\n",
      "    return 0"
     ],
     "language": "python",
     "metadata": {},
     "outputs": [],
     "prompt_number": 103
    },
    {
     "cell_type": "code",
     "collapsed": false,
     "input": [
      "accuracy = EvaluateRecommendationsUser(data[10:],data[0:9],similarity=SimEuclid)"
     ],
     "language": "python",
     "metadata": {},
     "outputs": [],
     "prompt_number": 104
    }
   ],
   "metadata": {}
  }
 ]
}