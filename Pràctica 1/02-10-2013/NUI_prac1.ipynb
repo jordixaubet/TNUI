{
 "metadata": {
  "name": "NUI_prac1"
 },
 "nbformat": 3,
 "nbformat_minor": 0,
 "worksheets": [
  {
   "cells": [
    {
     "cell_type": "heading",
     "level": 1,
     "metadata": {},
     "source": "Pr\u00e0ctiques de Nous Usos de la Inform\u00e0tica"
    },
    {
     "cell_type": "markdown",
     "metadata": {},
     "source": "#### Requeriments per fer les pr\u00e0ctiques:"
    },
    {
     "cell_type": "raw",
     "metadata": {},
     "source": "1) Una forma simple d'instal\u00b7lar tots els paquets necessaris \u00e9s instal\u00b7lar la plataforma de distribuci\u00f3 de Python Anaconda: https://store.continuum.io/\nAquesta plataforma instal\u00b7la autom\u00e0ticament un conjunt d'eines (matplotlib, NumPy, SciPy, NetworkX, iPython, pandas, etc.) que constitueixen l'entorn de computaci\u00f3 cient\u00edfica necessari per desenvolupar les pr\u00e0ctiques d'aquesta assignatura. L'altra opci\u00f3 \u00e9s instal\u00b7lar independentment els paquets matplotlib, NumPy, SciPy, NetworkX, iPython i pandas.\n2) Les pr\u00e0ctiques es poden lliurar en forma de \"notebook\" de iPython que contingui tot el programari desenvolupat per l'alumne o simplement en un m\u00f2dul de Python que contingui tot el programari necessari per executar la pr\u00e0ctica. Informaci\u00f3 sobre iPython: http://ipython.org/"
    },
    {
     "cell_type": "heading",
     "level": 1,
     "metadata": {},
     "source": "Pr\u00e0ctica 1: Programaci\u00f3 Avan\u00e7ada de Python"
    },
    {
     "cell_type": "markdown",
     "metadata": {},
     "source": "### Processament avan\u00e7at de llistes i diccionaris."
    },
    {
     "cell_type": "markdown",
     "metadata": {},
     "source": "<b>Exercici 1:</b>  Escriu els conjunts S, V i M usant \"list comprehensions\".\n\nS = {x\u00b2 : x in {0 ... 9}}\n\nV = (1, 2, 4, 8, ..., 2\u00b9\u00b2)\n\nM = {x | x $\\in$ S i x parell}"
    },
    {
     "cell_type": "code",
     "collapsed": false,
     "input": "S = [x*x for x in range(10)]\nprint \"S=\", S\n\ndef fib(n):\n    a,b = 1,1\n    for i in range(n-1):\n        a,b = b,a+b\n    return a\n    V = fib(5)\nprint \"V=\", V\n \nM = [2*x for x in range(6)] \nprint \"M=\", M",
     "language": "python",
     "metadata": {},
     "outputs": [
      {
       "output_type": "stream",
       "stream": "stdout",
       "text": "S= [0, 1, 4, 9, 16, 25, 36, 49, 64, 81]\nV= [0, 2, 4, 6, 8, 10, 12, 14, 16, 18, 20, 22]\nM= [0, 2, 4, 6, 8, 10]\n"
      }
     ],
     "prompt_number": 7
    },
    {
     "cell_type": "markdown",
     "metadata": {},
     "source": "<b>Exercici 2</b>: Calcula, usant \"list comprehensions\", els quadrats dels nombres entre 1 i 10 que s\u00f3n divisibles per 2."
    },
    {
     "cell_type": "code",
     "collapsed": false,
     "input": "[x*x for x in range(1, 10) if x%2 == 0]",
     "language": "python",
     "metadata": {},
     "outputs": [
      {
       "output_type": "pyout",
       "prompt_number": 36,
       "text": "[4, 16, 36, 64]"
      }
     ],
     "prompt_number": 36
    },
    {
     "cell_type": "markdown",
     "metadata": {},
     "source": "<b>Exercici 3</b>: Donada una llista L amb 50 nombres enters aleat\u00f2ris entre 1 i 100, crea una nova llista el primer element de la qual \u00e9s el nombre de 1's que hi ha a L, el segon element \u00e9s el nombre de 2's que hi ha a L, etc."
    },
    {
     "cell_type": "code",
     "collapsed": false,
     "input": "import random\n\nL = []\nnewL = []\n\nfor i in range (50):\n    L.append(random.randint(1, 100))\n    \nnewL = [L.count(1), L.count(2)]\nprint newL\n",
     "language": "python",
     "metadata": {},
     "outputs": [
      {
       "output_type": "stream",
       "stream": "stdout",
       "text": "[0, 0]\n"
      }
     ],
     "prompt_number": 68
    },
    {
     "cell_type": "markdown",
     "metadata": {},
     "source": "<b>Exercici 4:</b> Donat el seg\u00fcent diccionari, obteniu les pel\u00b7l\u00edcules que ha votat el cr\u00edtic \u201cToby\u201d i la seva votaci\u00f3. Poseu el resultat en una llista, on apareix-hi el nom de la pel\u00b7l\u00edcula i la votaci\u00f3 corresponent. "
    },
    {
     "cell_type": "code",
     "collapsed": false,
     "input": "critics={'Lisa Rose': {'Lady in the Water': 2.5, 'Snakes on a Plane': 3.5,\n 'Just My Luck': 3.0, 'Superman Returns': 3.5, 'You, Me and Dupree': 2.5,\n 'The Night Listener': 3.0}, 'Gene Seymour': {'Lady in the Water': 3.0, 'Snakes on a Plane': 3.5,\n 'Just My Luck': 1.5, 'Superman Returns': 5.0, 'The Night Listener': 3.0,\n 'You, Me and Dupree': 3.5}, 'Michael Phillips': {'Lady in the Water': 2.5, 'Snakes on a Plane': 3.0,\n 'Superman Returns': 3.5, 'The Night Listener': 4.0}, 'Claudia Puig': {'Snakes on a Plane': 3.5, 'Just My Luck': 3.0,\n 'The Night Listener': 4.5, 'Superman Returns': 4.0,  'You, Me and Dupree': 2.5}, 'Mick LaSalle': {'Lady in the Water': 3.0, 'Snakes on a Plane': 4.0,\n 'Just My Luck': 2.0, 'Superman Returns': 3.0, 'The Night Listener': 3.0, \n 'You, Me and Dupree': 2.0}, 'Jack Matthews': {'Lady in the Water': 3.0, 'Snakes on a Plane': 4.0,\n 'The Night Listener': 3.0, 'Superman Returns': 5.0, 'You, Me and Dupree': 3.5},\n'Toby': {'Snakes on a Plane':4.5,'You, Me and Dupree':1.0,'Superman Returns':4.0}}",
     "language": "python",
     "metadata": {},
     "outputs": [],
     "prompt_number": 63
    },
    {
     "cell_type": "code",
     "collapsed": false,
     "input": "llistaToby = [ (key, value) for key, values in critics['Toby'].items() ]\n\nprint llistaToby",
     "language": "python",
     "metadata": {},
     "outputs": [
      {
       "output_type": "stream",
       "stream": "stdout",
       "text": "[('Snakes on a Plane', 3.0), ('Superman Returns', 3.0), ('You, Me and Dupree', 3.0)]\n"
      }
     ],
     "prompt_number": 109
    },
    {
     "cell_type": "markdown",
     "metadata": {},
     "source": "<b>Exercici 5.</b> Obteniu la el nom de la pel\u00b7l\u00edcula que tingui la major puntuaci\u00f3 del cr\u00edtic \u201cGene\nSeymour\u201d."
    },
    {
     "cell_type": "code",
     "collapsed": false,
     "input": "max([ (values, key) for key, values in critics['Gene Seymour'].items()] )[1]",
     "language": "python",
     "metadata": {},
     "outputs": [
      {
       "output_type": "pyout",
       "prompt_number": 111,
       "text": "'Superman Returns'"
      }
     ],
     "prompt_number": 111
    },
    {
     "cell_type": "markdown",
     "metadata": {},
     "source": "<b>Exercici 6.</b> Obteniu el cr\u00edtic que ha donat la puntuaci\u00f3 m\u00e9s elevada a la pel\u00b7l\u00edcula \u201cSuperman\nReturns\u201d."
    },
    {
     "cell_type": "code",
     "collapsed": false,
     "input": "max([ (critics[critic]['Superman Returns'], critic) for critic in critics if 'Superman Returns' in critics[critic]] )[1]\n \n    \n\n",
     "language": "python",
     "metadata": {},
     "outputs": [
      {
       "output_type": "pyout",
       "prompt_number": 127,
       "text": "'Jack Matthews'"
      }
     ],
     "prompt_number": 127
    },
    {
     "cell_type": "markdown",
     "metadata": {},
     "source": "<b>Exercici 7</b>. Obteniu el nom del Cr\u00edtic que ha donat la puntuaci\u00f3 mitja m\u00e9s elevada. Quina \u00e9s aquesta puntuaci\u00f3 mitja?"
    },
    {
     "cell_type": "code",
     "collapsed": false,
     "input": "critics={'Lisa Rose': {'Lady in the Water': 2.5, 'Snakes on a Plane': 3.5,\n 'Just My Luck': 3.0, 'Superman Returns': 3.5, 'You, Me and Dupree': 2.5,\n 'The Night Listener': 3.0}, 'Gene Seymour': {'Lady in the Water': 3.0, 'Snakes on a Plane': 3.5,\n 'Just My Luck': 1.5, 'Superman Returns': 5.0, 'The Night Listener': 3.0,\n 'You, Me and Dupree': 3.5}, 'Michael Phillips': {'Lady in the Water': 2.5, 'Snakes on a Plane': 3.0,\n 'Superman Returns': 3.5, 'The Night Listener': 4.0}, 'Claudia Puig': {'Snakes on a Plane': 3.5, 'Just My Luck': 3.0,\n 'The Night Listener': 4.5, 'Superman Returns': 4.0,  'You, Me and Dupree': 2.5}, 'Mick LaSalle': {'Lady in the Water': 3.0, 'Snakes on a Plane': 4.0,\n 'Just My Luck': 2.0, 'Superman Returns': 3.0, 'The Night Listener': 3.0, \n 'You, Me and Dupree': 2.0}, 'Jack Matthews': {'Lady in the Water': 3.0, 'Snakes on a Plane': 4.0,\n 'The Night Listener': 3.0, 'Superman Returns': 5.0, 'You, Me and Dupree': 3.5},\n'Toby': {'Snakes on a Plane':4.5,'You, Me and Dupree':1.0,'Superman Returns':4.0}}\n\ndef avg(l): \n    return sum(l)/len(l) if len(l) > 0 else 0\n\n#max([ (critics[critic], critic) for critic in critics] )[0]\n\npuntuacio = mean(critics[key].values())\n\nL = [ (key, (peli, puntuacio)) for key in critics for peli, puntuacio in critics[key] ]\nprint L\n\n#sum(critics[key].values())\n",
     "language": "python",
     "metadata": {},
     "outputs": [
      {
       "ename": "NameError",
       "evalue": "name 'mean' is not defined",
       "output_type": "pyerr",
       "traceback": [
        "\u001b[0;31m---------------------------------------------------------------------------\u001b[0m\n\u001b[0;31mNameError\u001b[0m                                 Traceback (most recent call last)",
        "\u001b[0;32m<ipython-input-39-1e6b8fda1ed5>\u001b[0m in \u001b[0;36m<module>\u001b[0;34m()\u001b[0m\n\u001b[1;32m     16\u001b[0m \u001b[0;31m#max([ (critics[critic], critic) for critic in critics] )[0]\u001b[0m\u001b[0;34m\u001b[0m\u001b[0;34m\u001b[0m\u001b[0m\n\u001b[1;32m     17\u001b[0m \u001b[0;34m\u001b[0m\u001b[0m\n\u001b[0;32m---> 18\u001b[0;31m \u001b[0mpuntuacio\u001b[0m \u001b[0;34m=\u001b[0m \u001b[0mmean\u001b[0m\u001b[0;34m(\u001b[0m\u001b[0mcritics\u001b[0m\u001b[0;34m[\u001b[0m\u001b[0mkey\u001b[0m\u001b[0;34m]\u001b[0m\u001b[0;34m.\u001b[0m\u001b[0mvalues\u001b[0m\u001b[0;34m(\u001b[0m\u001b[0;34m)\u001b[0m\u001b[0;34m)\u001b[0m\u001b[0;34m\u001b[0m\u001b[0m\n\u001b[0m\u001b[1;32m     19\u001b[0m \u001b[0;34m\u001b[0m\u001b[0m\n\u001b[1;32m     20\u001b[0m \u001b[0mL\u001b[0m \u001b[0;34m=\u001b[0m \u001b[0;34m[\u001b[0m \u001b[0;34m(\u001b[0m\u001b[0mkey\u001b[0m\u001b[0;34m,\u001b[0m \u001b[0;34m(\u001b[0m\u001b[0mpeli\u001b[0m\u001b[0;34m,\u001b[0m \u001b[0mpuntuacio\u001b[0m\u001b[0;34m)\u001b[0m\u001b[0;34m)\u001b[0m \u001b[0;32mfor\u001b[0m \u001b[0mkey\u001b[0m \u001b[0;32min\u001b[0m \u001b[0mcritics\u001b[0m \u001b[0;32mfor\u001b[0m \u001b[0mpeli\u001b[0m\u001b[0;34m,\u001b[0m \u001b[0mpuntuacio\u001b[0m \u001b[0;32min\u001b[0m \u001b[0mcritics\u001b[0m\u001b[0;34m[\u001b[0m\u001b[0mkey\u001b[0m\u001b[0;34m]\u001b[0m \u001b[0;34m]\u001b[0m\u001b[0;34m\u001b[0m\u001b[0m\n",
        "\u001b[0;31mNameError\u001b[0m: name 'mean' is not defined"
       ]
      }
     ],
     "prompt_number": 39
    },
    {
     "cell_type": "markdown",
     "metadata": {},
     "source": "<b>Exercici 8:</b> Normalitzeu les puntuacions de cada cr\u00edtic per la seva mitja."
    },
    {
     "cell_type": "code",
     "collapsed": false,
     "input": "",
     "language": "python",
     "metadata": {},
     "outputs": [],
     "prompt_number": 18
    },
    {
     "cell_type": "markdown",
     "metadata": {},
     "source": "### El m\u00f2dul NumPy i la seva estrucutura de dades: el $ndarray$\n\nEls $ndarray$ s\u00f3n un (objecte) array multidimensional de dades optimitzat per a ser processat amb llibreries de baix nivell sense fer cap c\u00f2pia de les dades emmagatzemandes en un programa Python."
    },
    {
     "cell_type": "code",
     "collapsed": false,
     "input": "import numpy as np\n# construcci\u00f3 d'un ndarray\narr = np.array([0, 9, 5, 4, 3])\narr",
     "language": "python",
     "metadata": {},
     "outputs": [
      {
       "output_type": "pyout",
       "prompt_number": 37,
       "text": "array([0, 9, 5, 4, 3])"
      }
     ],
     "prompt_number": 37
    },
    {
     "cell_type": "markdown",
     "metadata": {},
     "source": "Hi ha diverses funcions que poden crear aquesta estructura de dades:"
    },
    {
     "cell_type": "raw",
     "metadata": {},
     "source": "np.array\nnp.asarray\nnp.arange\nnp.ones\nnp.ones_like\nnp.zeros\nnp.zeros_like\nnp.empty\nnp.random.randn\netc."
    },
    {
     "cell_type": "code",
     "collapsed": false,
     "input": "np.zeros(4)",
     "language": "python",
     "metadata": {},
     "outputs": [],
     "prompt_number": 20
    },
    {
     "cell_type": "code",
     "collapsed": false,
     "input": "np.arange(4)",
     "language": "python",
     "metadata": {},
     "outputs": [],
     "prompt_number": 21
    },
    {
     "cell_type": "markdown",
     "metadata": {},
     "source": "### 'dtype' i 'shape'\n\nEls arrays de NumPy s\u00f3n contenidors de dades homog\u00e8nies (totes han de ser del mateix tipus).  La propietat 'dtype' \u00e9s un objecte que especifica el tipus de dada de cada element.  La propietat 'shape' \u00e9s una tupla que indica la mida de cada dimensi\u00f3."
    },
    {
     "cell_type": "code",
     "collapsed": false,
     "input": "arr = np.random.randn(5)\narr",
     "language": "python",
     "metadata": {},
     "outputs": [],
     "prompt_number": 22
    },
    {
     "cell_type": "code",
     "collapsed": false,
     "input": "arr.dtype",
     "language": "python",
     "metadata": {},
     "outputs": [],
     "prompt_number": 23
    },
    {
     "cell_type": "code",
     "collapsed": false,
     "input": "arr.shape",
     "language": "python",
     "metadata": {},
     "outputs": [],
     "prompt_number": 24
    },
    {
     "cell_type": "code",
     "collapsed": false,
     "input": "# es pot especificar el tipus que es vol\nnp.empty(4, dtype=np.int32)",
     "language": "python",
     "metadata": {},
     "outputs": [],
     "prompt_number": 25
    },
    {
     "cell_type": "code",
     "collapsed": false,
     "input": "np.array(['numpy','pandas','pytables'], dtype=np.string_)",
     "language": "python",
     "metadata": {},
     "outputs": [],
     "prompt_number": 26
    },
    {
     "cell_type": "code",
     "collapsed": false,
     "input": "float_arr = np.array([4.4, 5.52425, -0.1234, 98.1], dtype=np.float64)",
     "language": "python",
     "metadata": {},
     "outputs": [],
     "prompt_number": 27
    },
    {
     "cell_type": "code",
     "collapsed": false,
     "input": "# trunquem la part decimal\nfloat_arr.astype(np.int32)",
     "language": "python",
     "metadata": {},
     "outputs": [],
     "prompt_number": 28
    },
    {
     "cell_type": "markdown",
     "metadata": {},
     "source": "### 'Indexing' i 'slicing' de $ndarray$"
    },
    {
     "cell_type": "code",
     "collapsed": false,
     "input": "arr = np.array([0, 9, 1, 4, 64])\narr[3]",
     "language": "python",
     "metadata": {},
     "outputs": [],
     "prompt_number": 29
    },
    {
     "cell_type": "code",
     "collapsed": false,
     "input": "arr[1:3]",
     "language": "python",
     "metadata": {},
     "outputs": [],
     "prompt_number": 30
    },
    {
     "cell_type": "markdown",
     "metadata": {},
     "source": "### Indexaci\u00f3 d'arrays multidimensionals."
    },
    {
     "cell_type": "code",
     "collapsed": false,
     "input": "arr_2d = np.array([[5,3,4],[0,1,2],[1,1,10],[0,0,0.1]])\narr_2d",
     "language": "python",
     "metadata": {},
     "outputs": [],
     "prompt_number": 31
    },
    {
     "cell_type": "code",
     "collapsed": false,
     "input": "# llegim la primera fila\narr_2d[0]",
     "language": "python",
     "metadata": {},
     "outputs": [],
     "prompt_number": 32
    },
    {
     "cell_type": "code",
     "collapsed": false,
     "input": "# llegim la primera columna\narr_2d[:,0]",
     "language": "python",
     "metadata": {},
     "outputs": [],
     "prompt_number": 33
    },
    {
     "cell_type": "code",
     "collapsed": false,
     "input": "# llegim les dues primeres files\narr_2d[:2]",
     "language": "python",
     "metadata": {},
     "outputs": [],
     "prompt_number": 34
    },
    {
     "cell_type": "markdown",
     "metadata": {},
     "source": "### Aneu amb compte, s\u00f3n vistes, no c\u00f2pies!"
    },
    {
     "cell_type": "code",
     "collapsed": false,
     "input": "arr = np.array([0, 3, 1, 4, 64])\narr",
     "language": "python",
     "metadata": {},
     "outputs": [],
     "prompt_number": 35
    },
    {
     "cell_type": "code",
     "collapsed": false,
     "input": "subarr = arr[2:4]\nsubarr[1] = 99\narr",
     "language": "python",
     "metadata": {},
     "outputs": [],
     "prompt_number": 36
    },
    {
     "cell_type": "markdown",
     "metadata": {},
     "source": "### Indexaci\u00f3 Booleana\nL'indexaci\u00f3 Booleana permet selecionar subconjunts de dades d'un array que satisfan una condici\u00f3 determinada."
    },
    {
     "cell_type": "code",
     "collapsed": false,
     "input": "arr = np.array([10, 20])\nidx = np.array([True, False])\narr[idx]",
     "language": "python",
     "metadata": {},
     "outputs": [],
     "prompt_number": 37
    },
    {
     "cell_type": "code",
     "collapsed": false,
     "input": "arr_2d = np.random.randn(5)\narr_2d",
     "language": "python",
     "metadata": {},
     "outputs": [],
     "prompt_number": 38
    },
    {
     "cell_type": "code",
     "collapsed": false,
     "input": "arr_2d < 0",
     "language": "python",
     "metadata": {},
     "outputs": [],
     "prompt_number": 39
    },
    {
     "cell_type": "code",
     "collapsed": false,
     "input": "arr_2d[arr_2d < 0]",
     "language": "python",
     "metadata": {},
     "outputs": [],
     "prompt_number": 40
    },
    {
     "cell_type": "code",
     "collapsed": false,
     "input": "arr_2d[(arr_2d > -0.5) & (arr_2d < 0)]",
     "language": "python",
     "metadata": {},
     "outputs": [],
     "prompt_number": 41
    },
    {
     "cell_type": "code",
     "collapsed": false,
     "input": "arr_2d[arr_2d < 0] = 0\narr_2d",
     "language": "python",
     "metadata": {},
     "outputs": [],
     "prompt_number": 42
    },
    {
     "cell_type": "code",
     "collapsed": false,
     "input": "arr = np.arange(18).reshape(6,3)\narr",
     "language": "python",
     "metadata": {},
     "outputs": [],
     "prompt_number": 43
    },
    {
     "cell_type": "code",
     "collapsed": false,
     "input": "# selecci\u00f3 \"fancy\" de files en un ordre particular\narr[[0,4,4]]",
     "language": "python",
     "metadata": {},
     "outputs": [],
     "prompt_number": 44
    },
    {
     "cell_type": "code",
     "collapsed": false,
     "input": "# indexaci\u00f3 en elements particulars i aplanament\narr[[5,3,1],[2,1,0]]",
     "language": "python",
     "metadata": {},
     "outputs": [],
     "prompt_number": 45
    },
    {
     "cell_type": "code",
     "collapsed": false,
     "input": "# selecci\u00f3 d'una submatriu\narr[np.ix_([5,3,1],[2,1])]",
     "language": "python",
     "metadata": {},
     "outputs": [],
     "prompt_number": 46
    },
    {
     "cell_type": "markdown",
     "metadata": {},
     "source": "### Vectoritzaci\u00f3\nLa vectoritzaci\u00f3 ens permet expressar operacions sense instruccions d'iteraci\u00f3.\nLes operacions entre arrays amb la mateixa forma es fan a nivell d'element. "
    },
    {
     "cell_type": "code",
     "collapsed": false,
     "input": "arr = np.array([0, 9, 1.02, 4, 32])\narr - arr",
     "language": "python",
     "metadata": {},
     "outputs": [],
     "prompt_number": 47
    },
    {
     "cell_type": "code",
     "collapsed": false,
     "input": "arr * arr",
     "language": "python",
     "metadata": {},
     "outputs": [],
     "prompt_number": 48
    },
    {
     "cell_type": "markdown",
     "metadata": {},
     "source": "### Difusi\u00f3 de regles\nLes operacions vectoritzades entre arrays de diferents formes i entre arrays i escalars estan subjectes a les regles de la \"difusi\u00f3\":"
    },
    {
     "cell_type": "code",
     "collapsed": false,
     "input": "arr = np.array([0, 9, 1.02, 4, 64])\n5 * arr ",
     "language": "python",
     "metadata": {},
     "outputs": [],
     "prompt_number": 49
    },
    {
     "cell_type": "code",
     "collapsed": false,
     "input": "10 + arr",
     "language": "python",
     "metadata": {},
     "outputs": [],
     "prompt_number": 50
    },
    {
     "cell_type": "code",
     "collapsed": false,
     "input": "arr ** .5",
     "language": "python",
     "metadata": {},
     "outputs": [],
     "prompt_number": 51
    },
    {
     "cell_type": "markdown",
     "metadata": {},
     "source": "El cas dels arrays de formes diferents \u00e9s una mica m\u00e9s complicat. La idea \u00e9s que la forma dels operands s'ha de sotmetre a una certa especificaci\u00f3:"
    },
    {
     "cell_type": "code",
     "collapsed": false,
     "input": "arr = np.random.randn(4,2)\narr",
     "language": "python",
     "metadata": {},
     "outputs": [],
     "prompt_number": 52
    },
    {
     "cell_type": "code",
     "collapsed": false,
     "input": "mean_row = np.mean(arr, axis=0)\nmean_row",
     "language": "python",
     "metadata": {},
     "outputs": [],
     "prompt_number": 53
    },
    {
     "cell_type": "code",
     "collapsed": false,
     "input": "centered_rows = arr - mean_row\ncentered_rows",
     "language": "python",
     "metadata": {},
     "outputs": [],
     "prompt_number": 54
    },
    {
     "cell_type": "code",
     "collapsed": false,
     "input": "np.mean(centered_rows, axis=0)",
     "language": "python",
     "metadata": {},
     "outputs": [],
     "prompt_number": 55
    },
    {
     "cell_type": "code",
     "collapsed": false,
     "input": "mean_col = np.mean(arr, axis=1)\nmean_col",
     "language": "python",
     "metadata": {},
     "outputs": [],
     "prompt_number": 56
    },
    {
     "cell_type": "code",
     "collapsed": false,
     "input": "centered_cols = arr - mean_col",
     "language": "python",
     "metadata": {},
     "outputs": [],
     "prompt_number": 57
    },
    {
     "cell_type": "code",
     "collapsed": false,
     "input": "# make the 1-D array a column vector\nmean_col.reshape((4,1))",
     "language": "python",
     "metadata": {},
     "outputs": [],
     "prompt_number": 58
    },
    {
     "cell_type": "code",
     "collapsed": false,
     "input": "centered_cols = arr - mean_col.reshape((4,1))\ncentered_rows",
     "language": "python",
     "metadata": {},
     "outputs": [],
     "prompt_number": 59
    },
    {
     "cell_type": "code",
     "collapsed": false,
     "input": "centered_cols.mean(axis=1)",
     "language": "python",
     "metadata": {},
     "outputs": [],
     "prompt_number": 60
    },
    {
     "cell_type": "markdown",
     "metadata": {},
     "source": "#### Una nota sobre NANs: \nSegons la definici\u00f3, NaN \u00e9s un valor de punt flotant que no \u00e9s igual a cap altre valor de punt flotant. "
    },
    {
     "cell_type": "code",
     "collapsed": false,
     "input": "np.nan != np.nan",
     "language": "python",
     "metadata": {},
     "outputs": [],
     "prompt_number": 61
    },
    {
     "cell_type": "code",
     "collapsed": false,
     "input": "np.array([10,5,4,np.nan,1,np.nan]) == np.nan",
     "language": "python",
     "metadata": {},
     "outputs": [],
     "prompt_number": 62
    },
    {
     "cell_type": "code",
     "collapsed": false,
     "input": "np.isnan(np.array([10,5,4,np.nan,1,np.nan]))",
     "language": "python",
     "metadata": {},
     "outputs": [],
     "prompt_number": 63
    },
    {
     "cell_type": "markdown",
     "metadata": {},
     "source": "<b>Exercici 9:</b> Donat el seg\u00fcent ndarray, accedeix al seu tercer element"
    },
    {
     "cell_type": "code",
     "collapsed": false,
     "input": "arr = np.arange(10)\narr",
     "language": "python",
     "metadata": {},
     "outputs": [],
     "prompt_number": 64
    },
    {
     "cell_type": "code",
     "collapsed": false,
     "input": "# Escriu el teu codi aqu\u00ed i fes que retorni el resultat demanat",
     "language": "python",
     "metadata": {},
     "outputs": [],
     "prompt_number": 65
    },
    {
     "cell_type": "markdown",
     "metadata": {},
     "source": "<b>Exercici 10:</b> Donat el seg\u00fcent ndarray, accedeix a l'\u00faltima columna"
    },
    {
     "cell_type": "code",
     "collapsed": false,
     "input": "arr = np.array([[5,4,2,5],[4,5,1,12],[0,1,5,4]])",
     "language": "python",
     "metadata": {},
     "outputs": [],
     "prompt_number": 66
    },
    {
     "cell_type": "code",
     "collapsed": false,
     "input": "# Escriu el teu codi aqu\u00ed i fes que retorni el resultat demanat",
     "language": "python",
     "metadata": {},
     "outputs": [],
     "prompt_number": 67
    },
    {
     "cell_type": "markdown",
     "metadata": {},
     "source": "<b>Exercici 11:</b> Donat el seg\u00fcent ndrray, selecciona els elements que s\u00f3n m\u00e9s grans que zero. "
    },
    {
     "cell_type": "code",
     "collapsed": false,
     "input": "arr = np.array([[-0.28179535,  1.80896278, -1.08991099, -1.20264003,  0.61651465],\n                [ 0.49983669,  0.28402664, -0.12685554,  0.81266623,  0.96586634]])",
     "language": "python",
     "metadata": {},
     "outputs": [],
     "prompt_number": 68
    },
    {
     "cell_type": "code",
     "collapsed": false,
     "input": "# Escriu el teu codi aqu\u00ed i fes que retorni el resultat demanat",
     "language": "python",
     "metadata": {},
     "outputs": [],
     "prompt_number": 69
    },
    {
     "cell_type": "markdown",
     "metadata": {},
     "source": "<b>Exercici 12:</b> Donat el seg\u00fcent ndarray, posa els dos \u00faltims elements a valor 10. "
    },
    {
     "cell_type": "code",
     "collapsed": false,
     "input": "arr = np.array([1,2,-10,5,-6])",
     "language": "python",
     "metadata": {},
     "outputs": [],
     "prompt_number": 70
    },
    {
     "cell_type": "code",
     "collapsed": false,
     "input": "# Escriu el teu codi aqu\u00ed i fes que retorni el resultat demanat",
     "language": "python",
     "metadata": {},
     "outputs": [],
     "prompt_number": 71
    },
    {
     "cell_type": "markdown",
     "metadata": {},
     "source": "<b>Exercici 13</b>: Donat el seg\u00fcent ndrray, calcula la suma dels seus elements. "
    },
    {
     "cell_type": "code",
     "collapsed": false,
     "input": "arr = np.arange(10)",
     "language": "python",
     "metadata": {},
     "outputs": [],
     "prompt_number": 72
    },
    {
     "cell_type": "code",
     "collapsed": false,
     "input": "# Escriu el teu codi aqu\u00ed i fes que retorni el resultat demanat",
     "language": "python",
     "metadata": {},
     "outputs": [],
     "prompt_number": 73
    },
    {
     "cell_type": "markdown",
     "metadata": {},
     "source": "<b>Exercici 14: </b> Donat el seg\u00fcent ndrray, calcula la mitja dels seus elements. "
    },
    {
     "cell_type": "code",
     "collapsed": false,
     "input": "arr = np.array([50,-79,80,35])",
     "language": "python",
     "metadata": {},
     "outputs": [],
     "prompt_number": 74
    },
    {
     "cell_type": "code",
     "collapsed": false,
     "input": "# Escriu el teu codi aqu\u00ed i fes que retorni el resultat demanat",
     "language": "python",
     "metadata": {},
     "outputs": [],
     "prompt_number": 75
    },
    {
     "cell_type": "markdown",
     "metadata": {},
     "source": "## pandas: Python Data Analysis Library\n\n### Qu\u00e8 \u00e9s?\n\npandas \u00e9s un m\u00f2dul que afegeix unes estructura de dades noves que ens permet manipular dades.\nM\u00e9s concretament, defineix les seg\u00fcents eines:\n\n- objectes indexats: Series i DataFrame\n- aliniament de dades\n- manipulaci\u00f3 de dades perdudes (missing data)\n- agregaci\u00f3 amb \"groupby\"\n- manipulaci\u00f3 de dades amb \"reshape, pivot, slice, merge, join\""
    },
    {
     "cell_type": "code",
     "collapsed": false,
     "input": "import pandas as pd\npd.set_printoptions(precision=3, notebook_repr_html=True)",
     "language": "python",
     "metadata": {},
     "outputs": [],
     "prompt_number": 76
    },
    {
     "cell_type": "markdown",
     "metadata": {},
     "source": "### Series: arrays etiquetats\n\nSeries \u00e9s l'estructura de dades m\u00e9s simple. \n\u00c9s una subclasse de ndarray que soporta \u00edndexos m\u00e9s rics."
    },
    {
     "cell_type": "code",
     "collapsed": false,
     "input": "import pandas as pd\n\nvalues = np.array([2.0, 1.0, 5.0, 0.97, 3.0, 10.0, 0.0599, 8.0])\nser = pd.Series(values)\nprint ser",
     "language": "python",
     "metadata": {},
     "outputs": [],
     "prompt_number": 77
    },
    {
     "cell_type": "code",
     "collapsed": false,
     "input": "values = np.array([2.0, 1.0, 5.0, 0.97, 3.0, 10.0, 0.0599, 8.0])\nlabels = ['A', 'B', 'C', 'D', 'E', 'F', 'G', 'H']\nser = pd.Series(data=values, index=labels)\nprint ser",
     "language": "python",
     "metadata": {},
     "outputs": [],
     "prompt_number": 78
    },
    {
     "cell_type": "code",
     "collapsed": false,
     "input": "movie_rating = {\n    'age': 1,\n    'gender': 'F',\n    'genres': 'Drama',\n    'movie_id': 1193,\n    'occupation': 10,\n    'rating': 5,\n    'timestamp': 978300760,\n    'title': \"One Flew Over the Cuckoo's Nest (1975)\",\n    'user_id': 1,\n    'zip': '48067'\n    }\nser = pd.Series(movie_rating)\nprint ser",
     "language": "python",
     "metadata": {},
     "outputs": [],
     "prompt_number": 79
    },
    {
     "cell_type": "code",
     "collapsed": false,
     "input": "ser.index",
     "language": "python",
     "metadata": {},
     "outputs": [],
     "prompt_number": 80
    },
    {
     "cell_type": "code",
     "collapsed": false,
     "input": "ser.values",
     "language": "python",
     "metadata": {},
     "outputs": [],
     "prompt_number": 81
    },
    {
     "cell_type": "markdown",
     "metadata": {},
     "source": "#### Indexaci\u00f3 de Series"
    },
    {
     "cell_type": "code",
     "collapsed": false,
     "input": "ser[0]",
     "language": "python",
     "metadata": {},
     "outputs": [],
     "prompt_number": 82
    },
    {
     "cell_type": "code",
     "collapsed": false,
     "input": "ser['gender']",
     "language": "python",
     "metadata": {},
     "outputs": [],
     "prompt_number": 83
    },
    {
     "cell_type": "code",
     "collapsed": false,
     "input": "ser.get_value('gender')",
     "language": "python",
     "metadata": {},
     "outputs": [],
     "prompt_number": 84
    },
    {
     "cell_type": "markdown",
     "metadata": {},
     "source": "#### Operacions entre Series amb diferents \u00edndexos"
    },
    {
     "cell_type": "code",
     "collapsed": false,
     "input": "ser_1 = pd.Series(data=[1,3,4], index=['A', 'B', 'C'])\nser_2 = pd.Series(data=[5,5,5], index=['A', 'G', 'C'])\nprint ser_1 + ser_2",
     "language": "python",
     "metadata": {},
     "outputs": [],
     "prompt_number": 85
    },
    {
     "cell_type": "markdown",
     "metadata": {},
     "source": "### DataFrame\n\nEl DataFrame \u00e9s la versi\u00f3 bi-dimensional de la Series.\nEs pot veure com un full de c\u00e0lcul on cada columna \u00e9s una Series."
    },
    {
     "cell_type": "code",
     "collapsed": false,
     "input": "# construcci\u00f3\npd.DataFrame({'col_1': [0.12, 7, 45, 10], 'col_2': [0.9, 9, 34, 11]})",
     "language": "python",
     "metadata": {},
     "outputs": [],
     "prompt_number": 86
    },
    {
     "cell_type": "markdown",
     "metadata": {},
     "source": "Podem definir expl\u00edcitament els noms de les columnes i dels \u00edndexos. "
    },
    {
     "cell_type": "code",
     "collapsed": false,
     "input": "pd.DataFrame(data={'col_1': [0.12, 7, 45, 10], 'col_2': [0.9, 9, 34, 11]},\n             columns=['col_1', 'col_2', 'col_3'])",
     "language": "python",
     "metadata": {},
     "outputs": [],
     "prompt_number": 87
    },
    {
     "cell_type": "code",
     "collapsed": false,
     "input": "pd.DataFrame(data={'col_1': [0.12, 7, 45, 10], 'col_2': [0.9, 9, 34, 11]},\n             columns=['col_1', 'col_2', 'col_3'],\n             index=['obs1', 'obs2', 'obs3', 'obs4'])\n",
     "language": "python",
     "metadata": {},
     "outputs": [],
     "prompt_number": 88
    },
    {
     "cell_type": "markdown",
     "metadata": {},
     "source": "Tamb\u00e9 podem veure-ho com un diccionari d'objectes Series. "
    },
    {
     "cell_type": "code",
     "collapsed": false,
     "input": "movie_rating = {\n    'gender': 'F',\n    'genres': 'Drama',\n    'movie_id': 1193,\n    'rating': 5,\n    'timestamp': 978300760,\n    'user_id': 1,\n    }\nser_1 = pd.Series(movie_rating)\nser_2 = pd.Series(movie_rating)\ndf = pd.DataFrame({'r_1': ser_1, 'r_2': ser_2})\ndf.columns.name = 'rating_events'\ndf.index.name = 'rating_data'\ndf",
     "language": "python",
     "metadata": {},
     "outputs": [],
     "prompt_number": 89
    },
    {
     "cell_type": "code",
     "collapsed": false,
     "input": "df = df.T\ndf",
     "language": "python",
     "metadata": {},
     "outputs": [],
     "prompt_number": 90
    },
    {
     "cell_type": "code",
     "collapsed": false,
     "input": "df.columns ",
     "language": "python",
     "metadata": {},
     "outputs": [],
     "prompt_number": 91
    },
    {
     "cell_type": "code",
     "collapsed": false,
     "input": "df.index",
     "language": "python",
     "metadata": {},
     "outputs": [],
     "prompt_number": 92
    },
    {
     "cell_type": "code",
     "collapsed": false,
     "input": "df.values",
     "language": "python",
     "metadata": {},
     "outputs": [],
     "prompt_number": 93
    },
    {
     "cell_type": "markdown",
     "metadata": {},
     "source": "#### Afegir/Borrar entrades"
    },
    {
     "cell_type": "code",
     "collapsed": false,
     "input": "df = pd.DataFrame({'r_1': ser_1, 'r_2': ser_2})\ndf.drop('genres', axis=0)",
     "language": "python",
     "metadata": {},
     "outputs": [],
     "prompt_number": 94
    },
    {
     "cell_type": "code",
     "collapsed": false,
     "input": "df.drop('r_1', axis=1)",
     "language": "python",
     "metadata": {},
     "outputs": [],
     "prompt_number": 95
    },
    {
     "cell_type": "code",
     "collapsed": false,
     "input": "# compte amb l'ordre!\ndf['r_3'] = ['F', 'Drama', 1193, 5, 978300760, 1]\ndf",
     "language": "python",
     "metadata": {},
     "outputs": [],
     "prompt_number": 96
    },
    {
     "cell_type": "markdown",
     "metadata": {},
     "source": "#### Indexaci\u00f3 del DataFrame"
    },
    {
     "cell_type": "markdown",
     "metadata": {},
     "source": "Podem indexar una columna per la seva etiqueta o amb la notaci\u00f3 de punt. "
    },
    {
     "cell_type": "code",
     "collapsed": false,
     "input": "df = pd.DataFrame(data={'col_1': [0.12, 7, 45, 10], 'col_2': [0.9, 9, 34, 11]},\n                  columns=['col_1', 'col_2', 'col_3'],\n                  index=['obs1', 'obs2', 'obs3', 'obs4'])\ndf['col_1']",
     "language": "python",
     "metadata": {},
     "outputs": [],
     "prompt_number": 97
    },
    {
     "cell_type": "code",
     "collapsed": false,
     "input": "df.col_1",
     "language": "python",
     "metadata": {},
     "outputs": [],
     "prompt_number": 98
    },
    {
     "cell_type": "markdown",
     "metadata": {},
     "source": "Tamb\u00e9 podem seleccionar un subconjunt de columnes: "
    },
    {
     "cell_type": "code",
     "collapsed": false,
     "input": "df[['col_2', 'col_1']]",
     "language": "python",
     "metadata": {},
     "outputs": [],
     "prompt_number": 99
    },
    {
     "cell_type": "markdown",
     "metadata": {},
     "source": "El m\u00e8tode .ix ens permet indexar certes columnes o files/columnes:"
    },
    {
     "cell_type": "code",
     "collapsed": false,
     "input": "df.ix['obs3']",
     "language": "python",
     "metadata": {},
     "outputs": [],
     "prompt_number": 100
    },
    {
     "cell_type": "code",
     "collapsed": false,
     "input": "df.ix[0]",
     "language": "python",
     "metadata": {},
     "outputs": [],
     "prompt_number": 101
    },
    {
     "cell_type": "code",
     "collapsed": false,
     "input": "df.ix[:2]",
     "language": "python",
     "metadata": {},
     "outputs": [],
     "prompt_number": 102
    },
    {
     "cell_type": "code",
     "collapsed": false,
     "input": "df.ix[:2, 'col_2']",
     "language": "python",
     "metadata": {},
     "outputs": [],
     "prompt_number": 103
    },
    {
     "cell_type": "code",
     "collapsed": false,
     "input": "df.ix[:2, ['col_1', 'col_2']]",
     "language": "python",
     "metadata": {},
     "outputs": [],
     "prompt_number": 104
    },
    {
     "cell_type": "markdown",
     "metadata": {},
     "source": "<b>Exercici 15</b>: Donat el seg\u00fcent DataFrame, afegeix-li una columna."
    },
    {
     "cell_type": "code",
     "collapsed": false,
     "input": "df = pd.DataFrame({'col1': [1,2,3,4]})\ndf",
     "language": "python",
     "metadata": {},
     "outputs": [],
     "prompt_number": 105
    },
    {
     "cell_type": "code",
     "collapsed": false,
     "input": "# Escriu el teu codi aqu\u00ed i fes que retorni el resultat demanat",
     "language": "python",
     "metadata": {},
     "outputs": [],
     "prompt_number": 106
    },
    {
     "cell_type": "markdown",
     "metadata": {},
     "source": "<b>Exercici 16:</b> Donat el seg\u00fcent DataFrame, elimna la fila 'd'."
    },
    {
     "cell_type": "code",
     "collapsed": false,
     "input": "df = pd.DataFrame({'col1': [1,2,3,4]}, index = ['a','b','c','d'])\ndf",
     "language": "python",
     "metadata": {},
     "outputs": [],
     "prompt_number": 107
    },
    {
     "cell_type": "code",
     "collapsed": false,
     "input": "# Escriu el teu codi aqu\u00ed i fes que retorni el resultat demanat",
     "language": "python",
     "metadata": {},
     "outputs": [],
     "prompt_number": 108
    },
    {
     "cell_type": "markdown",
     "metadata": {},
     "source": "<b>Exercici 17:</b> Donades aquestes tres s\u00e8ries, crea un DataFrame que les tingui per columnes."
    },
    {
     "cell_type": "code",
     "collapsed": false,
     "input": "ser_1 = pd.Series(np.random.randn(6))\nser_2 = pd.Series(np.random.randn(6))\nser_3 = pd.Series(np.random.randn(6))",
     "language": "python",
     "metadata": {},
     "outputs": [],
     "prompt_number": 109
    },
    {
     "cell_type": "code",
     "collapsed": false,
     "input": "# Escriu el teu codi aqu\u00ed i fes que retorni el resultat demanat",
     "language": "python",
     "metadata": {},
     "outputs": [],
     "prompt_number": 110
    },
    {
     "cell_type": "markdown",
     "metadata": {},
     "source": "<b>Exercici 18</b>: Donades les taules df (que correspon a una s\u00e8rie d'espectadors) i dg (que correspon a una s\u00e8rie de pel\u00b7licules puntuades pels espectadors) seg\u00fcents: (1) Uneix tota la informaci\u00f3 en una \u00fanica taula m. (2) Calcula el coeficient de correlaci\u00f3 de Pearson entre l'usuari 1 i l'usuari 2 en funci\u00f3 de les pel\u00b7licules que han vist els dos. "
    },
    {
     "cell_type": "code",
     "collapsed": false,
     "input": "df = DataFrame({'User' : [1,2,4,6,8], 'Age' : [22, 33,41,13,28], 'Sex' : ['a','b','a','a','a']})\ndg = DataFrame({'Mov' : [1,2,1,4,5,6,2,15], 'Rating' : [0.1, 0.9, 0.9,0.4,0.6,0.8,0.1,0.8], 'User' : [1,1,2,3,4,5,2,2]})\n\n# Escriu el teu codi aqu\u00ed i fes que retorni el resultat demanat",
     "language": "python",
     "metadata": {},
     "outputs": [],
     "prompt_number": 111
    }
   ],
   "metadata": {}
  }
 ]
}