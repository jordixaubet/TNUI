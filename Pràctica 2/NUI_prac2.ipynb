{
 "metadata": {
  "name": "NUI_prac2"
 },
 "nbformat": 3,
 "nbformat_minor": 0,
 "worksheets": [
  {
   "cells": [
    {
     "cell_type": "heading",
     "level": 1,
     "metadata": {},
     "source": "Pr\u00e0ctiques de Nous Usos de la Inform\u00e0tica"
    },
    {
     "cell_type": "markdown",
     "metadata": {},
     "source": "#### Requeriments per fer les pr\u00e0ctiques:"
    },
    {
     "cell_type": "raw",
     "metadata": {},
     "source": "1) Una forma simple d'instal\u00b7lar tots els paquets necessaris \u00e9s instal\u00b7lar la plataforma de distribuci\u00f3 de Python Anaconda: https://store.continuum.io/\nAquesta plataforma instal\u00b7la autom\u00e0ticament un conjunt d'eines (matplotlib, NumPy, SciPy, NetworkX, iPython, pandas, etc.) que constitueixen l'entorn de computaci\u00f3 cient\u00edfica necessari per desenvolupar les pr\u00e0ctiques d'aquesta assignatura. L'altra opci\u00f3 \u00e9s instal\u00b7lar independentment els paquets matplotlib, NumPy, SciPy, NetworkX, iPython i pandas.\n2) Les pr\u00e0ctiques es poden lliurar en forma de \"notebook\" de iPython que contingui tot el programari desenvolupat per l'alumne o simplement en un m\u00f2dul de Python que contingui tot el programari necessari per executar la pr\u00e0ctica. Informaci\u00f3 sobre iPython: http://ipython.org/"
    },
    {
     "cell_type": "markdown",
     "metadata": {},
     "source": "<b>ENTREGA: </b>\nEl dia l\u00edmit per a l'entrega d'aquesta pr\u00e0ctica \u00e9s el dia <b>18 d'Octubre a les 23.55h</b>\n\n<b>Format de l'entrega</b>\nL'entrega s'efectur\u00e0 mitjan\u00e7ant el campus virtual. S'ha de penjar un arxiu per grup. El nom del fitxer ha de seguir el seg\u00fcent patro:\nNUI_1_PrimeralletranomCognomMembre1_PrimeralletranomCognomMembre2.iypnb\n\nExemple: <br>\nMembre 1: Maria del Carme Vil\u00e0<br>\nMembre 2: Francesc Castell<br>\n\nNom de l'arxiu: <b>NUI_1_MVila_FCastell.ipynb</b>\n\n"
    },
    {
     "cell_type": "heading",
     "level": 1,
     "metadata": {},
     "source": "Pr\u00e0ctica 1. Recomanadors"
    },
    {
     "cell_type": "raw",
     "metadata": {},
     "source": "La base de dades movielens 1M (http://www.grouplens.org/node/73) cont\u00e9 1,000,209 puntuacions de 3.900 pel\u00b7licules fetes l'any 2000 per 6.040 usuaris an\u00f2nims del recomanador online MovieLens (http://www.movielens.org/). "
    },
    {
     "cell_type": "raw",
     "metadata": {},
     "source": "Els continguts de la base de dades s\u00f3n:\n\n================================================================================\n\nAll ratings are contained in the file \"ratings.dat\" and are in the following format:\n\nUserID::MovieID::Rating::Timestamp\n\n- UserIDs range between 1 and 6040 \n- MovieIDs range between 1 and 3952\n- Ratings are made on a 5-star scale (whole-star ratings only)\n- Timestamp is represented in seconds since the epoch as returned by time(2)\n- Each user has at least 20 ratings\n\nUSERS FILE DESCRIPTION\n================================================================================\n\nUser information is in the file \"users.dat\" and is in the following format:\n\nUserID::Gender::Age::Occupation::Zip-code\n\nAll demographic information is provided voluntarily by the users and is not checked for accuracy.  Only users who have provided some demographic information are included in this data set.\n\n- Gender is denoted by a \"M\" for male and \"F\" for female\n- Age is chosen from the following ranges:\n\n\t*  1:  \"Under 18\"\n\t* 18:  \"18-24\"\n\t* 25:  \"25-34\"\n\t* 35:  \"35-44\"\n\t* 45:  \"45-49\"\n\t* 50:  \"50-55\"\n\t* 56:  \"56+\"\n\n- Occupation is chosen from the following choices:\n\n\t*  0:  \"other\" or not specified\n\t*  1:  \"academic/educator\"\n\t*  2:  \"artist\"\n\t*  3:  \"clerical/admin\"\n\t*  4:  \"college/grad student\"\n\t*  5:  \"customer service\"\n\t*  6:  \"doctor/health care\"\n\t*  7:  \"executive/managerial\"\n\t*  8:  \"farmer\"\n\t*  9:  \"homemaker\"\n\t* 10:  \"K-12 student\"\n\t* 11:  \"lawyer\"\n\t* 12:  \"programmer\"\n\t* 13:  \"retired\"\n\t* 14:  \"sales/marketing\"\n\t* 15:  \"scientist\"\n\t* 16:  \"self-employed\"\n\t* 17:  \"technician/engineer\"\n\t* 18:  \"tradesman/craftsman\"\n\t* 19:  \"unemployed\"\n\t* 20:  \"writer\"\n\nMOVIES FILE DESCRIPTION\n================================================================================\n\nMovie information is in the file \"movies.dat\" and is in the following format:\n\nMovieID::Title::Genres\n\n- Titles are identical to titles provided by the IMDB (including year of release)\n- Genres are pipe-separated and are selected from the following genres:\n\n\t* Action\n\t* Adventure\n\t* Animation\n\t* Children's\n\t* Comedy\n\t* Crime\n\t* Documentary\n\t* Drama\n\t* Fantasy\n\t* Film-Noir\n\t* Horror\n\t* Musical\n\t* Mystery\n\t* Romance\n\t* Sci-Fi\n\t* Thriller\n\t* War\n\t* Western\n\n- Some MovieIDs do not correspond to a movie due to accidental duplicate entries and/or test entries\n- Movies are mostly entered by hand, so errors and inconsistencies may exist\n"
    },
    {
     "cell_type": "raw",
     "metadata": {},
     "source": "Baixa't la base de dades i c\u00f2pia-la a un directori local de la teva m\u00e0quina (p.e. \"C:\\Documents and Settings\\UB\\Escritorio\\My Dropbox\\iPython\"). "
    },
    {
     "cell_type": "raw",
     "metadata": {},
     "source": "Llegeix les tres taules de la base de dades en tres DataFrames de pandas:"
    },
    {
     "cell_type": "code",
     "collapsed": false,
     "input": "import pandas as pd\nunames = ['user_id', 'gender', 'age', 'occupation', 'zip']\nusers = pd.read_table('/opt/lampp/htdocs/Dropbox/Personal/Universitat/UB 13-14/1r semestre/Taller de nous usos de la inform\u00e0tica/Pr\u00e0ctiques/Repositori/Pr\u00e0ctica 2/ml-1m/users.dat', sep='::', header=None, names=unames)\nrnames = ['user_id', 'movie_id', 'rating', 'timestamp']\nratings = pd.read_table('/opt/lampp/htdocs/Dropbox/Personal/Universitat/UB 13-14/1r semestre/Taller de nous usos de la inform\u00e0tica/Pr\u00e0ctiques/Repositori/Pr\u00e0ctica 2/ml-1m/ratings.dat', sep='::', header=None, names=rnames)\nmnames = ['movie_id', 'title', 'genres']\nmovies = pd.read_table('/opt/lampp/htdocs/Dropbox/Personal/Universitat/UB 13-14/1r semestre/Taller de nous usos de la inform\u00e0tica/Pr\u00e0ctiques/Repositori/Pr\u00e0ctica 2/ml-1m/movies.dat', sep='::', header=None, names=mnames)\n",
     "language": "python",
     "metadata": {},
     "outputs": [],
     "prompt_number": 2
    },
    {
     "cell_type": "code",
     "collapsed": false,
     "input": "print users[:10]\n",
     "language": "python",
     "metadata": {},
     "outputs": [
      {
       "output_type": "stream",
       "stream": "stdout",
       "text": "   user_id gender  age  occupation    zip\n0        1      F    1          10  48067\n1        2      M   56          16  70072\n2        3      M   25          15  55117\n3        4      M   45           7  02460\n4        5      M   25          20  55455\n5        6      F   50           9  55117\n6        7      M   35           1  06810\n7        8      M   25          12  11413\n8        9      M   25          17  61614\n9       10      F   35           1  95370\n"
      }
     ],
     "prompt_number": 60
    },
    {
     "cell_type": "code",
     "collapsed": false,
     "input": "users",
     "language": "python",
     "metadata": {},
     "outputs": [
      {
       "html": "<pre>\n&lt;class 'pandas.core.frame.DataFrame'&gt;\nInt64Index: 6040 entries, 0 to 6039\nData columns (total 5 columns):\nuser_id       6040  non-null values\ngender        6040  non-null values\nage           6040  non-null values\noccupation    6040  non-null values\nzip           6040  non-null values\ndtypes: int64(3), object(2)\n</pre>",
       "metadata": {},
       "output_type": "pyout",
       "prompt_number": 61,
       "text": "<class 'pandas.core.frame.DataFrame'>\nInt64Index: 6040 entries, 0 to 6039\nData columns (total 5 columns):\nuser_id       6040  non-null values\ngender        6040  non-null values\nage           6040  non-null values\noccupation    6040  non-null values\nzip           6040  non-null values\ndtypes: int64(3), object(2)"
      }
     ],
     "prompt_number": 61
    },
    {
     "cell_type": "code",
     "collapsed": false,
     "input": "print ratings[:10]",
     "language": "python",
     "metadata": {},
     "outputs": [
      {
       "output_type": "stream",
       "stream": "stdout",
       "text": "   user_id  movie_id  rating  timestamp\n0        1      1193       5  978300760\n1        1       661       3  978302109\n2        1       914       3  978301968\n3        1      3408       4  978300275\n4        1      2355       5  978824291\n5        1      1197       3  978302268\n6        1      1287       5  978302039\n7        1      2804       5  978300719\n8        1       594       4  978302268\n9        1       919       4  978301368\n"
      }
     ],
     "prompt_number": 62
    },
    {
     "cell_type": "code",
     "collapsed": false,
     "input": "ratings",
     "language": "python",
     "metadata": {},
     "outputs": [
      {
       "html": "<pre>\n&lt;class 'pandas.core.frame.DataFrame'&gt;\nInt64Index: 1000209 entries, 0 to 1000208\nData columns (total 4 columns):\nuser_id      1000209  non-null values\nmovie_id     1000209  non-null values\nrating       1000209  non-null values\ntimestamp    1000209  non-null values\ndtypes: int64(4)\n</pre>",
       "metadata": {},
       "output_type": "pyout",
       "prompt_number": 7,
       "text": "<class 'pandas.core.frame.DataFrame'>\nInt64Index: 1000209 entries, 0 to 1000208\nData columns (total 4 columns):\nuser_id      1000209  non-null values\nmovie_id     1000209  non-null values\nrating       1000209  non-null values\ntimestamp    1000209  non-null values\ndtypes: int64(4)"
      }
     ],
     "prompt_number": 7
    },
    {
     "cell_type": "code",
     "collapsed": false,
     "input": "ratings.sort_index(by='movie_id')[:8]",
     "language": "python",
     "metadata": {},
     "outputs": [
      {
       "html": "<div style=\"max-height:1000px;max-width:1500px;overflow:auto;\">\n<table border=\"1\" class=\"dataframe\">\n  <thead>\n    <tr style=\"text-align: right;\">\n      <th></th>\n      <th>user_id</th>\n      <th>movie_id</th>\n      <th>rating</th>\n      <th>timestamp</th>\n    </tr>\n  </thead>\n  <tbody>\n    <tr>\n      <th>427702</th>\n      <td> 2599</td>\n      <td> 1</td>\n      <td> 4</td>\n      <td> 973796689</td>\n    </tr>\n    <tr>\n      <th>1966  </th>\n      <td>   18</td>\n      <td> 1</td>\n      <td> 4</td>\n      <td> 978154768</td>\n    </tr>\n    <tr>\n      <th>683688</th>\n      <td> 4089</td>\n      <td> 1</td>\n      <td> 5</td>\n      <td> 965428947</td>\n    </tr>\n    <tr>\n      <th>596207</th>\n      <td> 3626</td>\n      <td> 1</td>\n      <td> 4</td>\n      <td> 966594018</td>\n    </tr>\n    <tr>\n      <th>465902</th>\n      <td> 2873</td>\n      <td> 1</td>\n      <td> 5</td>\n      <td> 972784317</td>\n    </tr>\n    <tr>\n      <th>78200 </th>\n      <td>  528</td>\n      <td> 1</td>\n      <td> 5</td>\n      <td> 976245400</td>\n    </tr>\n    <tr>\n      <th>106468</th>\n      <td>  701</td>\n      <td> 1</td>\n      <td> 3</td>\n      <td> 979094230</td>\n    </tr>\n    <tr>\n      <th>434718</th>\n      <td> 2652</td>\n      <td> 1</td>\n      <td> 5</td>\n      <td> 973535127</td>\n    </tr>\n  </tbody>\n</table>\n</div>",
       "output_type": "pyout",
       "prompt_number": 3,
       "text": "        user_id  movie_id  rating  timestamp\n427702     2599         1       4  973796689\n1966         18         1       4  978154768\n683688     4089         1       5  965428947\n596207     3626         1       4  966594018\n465902     2873         1       5  972784317\n78200       528         1       5  976245400\n106468      701         1       3  979094230\n434718     2652         1       5  973535127"
      }
     ],
     "prompt_number": 3
    },
    {
     "cell_type": "code",
     "collapsed": false,
     "input": "movies[:5]",
     "language": "python",
     "metadata": {},
     "outputs": [
      {
       "html": "<div style=\"max-height:1000px;max-width:1500px;overflow:auto;\">\n<table border=\"1\" class=\"dataframe\">\n  <thead>\n    <tr style=\"text-align: right;\">\n      <th></th>\n      <th>movie_id</th>\n      <th>title</th>\n      <th>genres</th>\n    </tr>\n  </thead>\n  <tbody>\n    <tr>\n      <th>0</th>\n      <td> 1</td>\n      <td>                   Toy Story (1995)</td>\n      <td>  Animation|Children's|Comedy</td>\n    </tr>\n    <tr>\n      <th>1</th>\n      <td> 2</td>\n      <td>                     Jumanji (1995)</td>\n      <td> Adventure|Children's|Fantasy</td>\n    </tr>\n    <tr>\n      <th>2</th>\n      <td> 3</td>\n      <td>            Grumpier Old Men (1995)</td>\n      <td>               Comedy|Romance</td>\n    </tr>\n    <tr>\n      <th>3</th>\n      <td> 4</td>\n      <td>           Waiting to Exhale (1995)</td>\n      <td>                 Comedy|Drama</td>\n    </tr>\n    <tr>\n      <th>4</th>\n      <td> 5</td>\n      <td> Father of the Bride Part II (1995)</td>\n      <td>                       Comedy</td>\n    </tr>\n  </tbody>\n</table>\n</div>",
       "metadata": {},
       "output_type": "pyout",
       "prompt_number": 65,
       "text": "   movie_id                               title                        genres\n0         1                    Toy Story (1995)   Animation|Children's|Comedy\n1         2                      Jumanji (1995)  Adventure|Children's|Fantasy\n2         3             Grumpier Old Men (1995)                Comedy|Romance\n3         4            Waiting to Exhale (1995)                  Comedy|Drama\n4         5  Father of the Bride Part II (1995)                        Comedy"
      }
     ],
     "prompt_number": 65
    },
    {
     "cell_type": "code",
     "collapsed": false,
     "input": "ratings[0:5]",
     "language": "python",
     "metadata": {},
     "outputs": [
      {
       "html": "<div style=\"max-height:1000px;max-width:1500px;overflow:auto;\">\n<table border=\"1\" class=\"dataframe\">\n  <thead>\n    <tr style=\"text-align: right;\">\n      <th></th>\n      <th>user_id</th>\n      <th>movie_id</th>\n      <th>rating</th>\n      <th>timestamp</th>\n    </tr>\n  </thead>\n  <tbody>\n    <tr>\n      <th>0</th>\n      <td> 1</td>\n      <td> 1193</td>\n      <td> 5</td>\n      <td> 978300760</td>\n    </tr>\n    <tr>\n      <th>1</th>\n      <td> 1</td>\n      <td>  661</td>\n      <td> 3</td>\n      <td> 978302109</td>\n    </tr>\n    <tr>\n      <th>2</th>\n      <td> 1</td>\n      <td>  914</td>\n      <td> 3</td>\n      <td> 978301968</td>\n    </tr>\n    <tr>\n      <th>3</th>\n      <td> 1</td>\n      <td> 3408</td>\n      <td> 4</td>\n      <td> 978300275</td>\n    </tr>\n    <tr>\n      <th>4</th>\n      <td> 1</td>\n      <td> 2355</td>\n      <td> 5</td>\n      <td> 978824291</td>\n    </tr>\n  </tbody>\n</table>\n</div>",
       "metadata": {},
       "output_type": "pyout",
       "prompt_number": 68,
       "text": "   user_id  movie_id  rating  timestamp\n0        1      1193       5  978300760\n1        1       661       3  978302109\n2        1       914       3  978301968\n3        1      3408       4  978300275\n4        1      2355       5  978824291"
      }
     ],
     "prompt_number": 68
    },
    {
     "cell_type": "heading",
     "level": 3,
     "metadata": {},
     "source": "1.1 Exemple: C\u00e0lcul de les puntuacions mitjanes per sexe i edat dels usuaris."
    },
    {
     "cell_type": "raw",
     "metadata": {},
     "source": "Suposa que volem calcular les puntuacions mitjanes d'una pel\u00b7licula per sexe i edat. El primer pas a obtebir una \u00fanica estructura que contingui tota la informaci\u00f3. \nPer fer-ho podem usar la funci\u00f3 \"merge\" de pandas. Aquesta funci\u00f3 infereix autom\u00e0ticament quines columnes ha d'usar per fer el \"merge\" basant-se en els noms que fan interesecci\u00f3:"
    },
    {
     "cell_type": "code",
     "collapsed": false,
     "input": "\ndata = pd.merge(pd.merge(ratings, users), movies)\nprint data[:10]",
     "language": "python",
     "metadata": {},
     "outputs": [
      {
       "output_type": "stream",
       "stream": "stdout",
       "text": "   user_id  movie_id  rating  timestamp gender  age  occupation    zip  \\\n0        1      1193       5  978300760      F    1          10  48067   \n1        2      1193       5  978298413      M   56          16  70072   \n2       12      1193       4  978220179      M   25          12  32793   \n3       15      1193       4  978199279      M   25           7  22903   \n4       17      1193       5  978158471      M   50           1  95350   \n5       18      1193       4  978156168      F   18           3  95825   \n6       19      1193       5  982730936      M    1          10  48073   \n7       24      1193       5  978136709      F   25           7  10023   \n8       28      1193       3  978125194      F   25           1  14607   \n9       33      1193       5  978557765      M   45           3  55421   \n\n                                    title genres  \n0  One Flew Over the Cuckoo's Nest (1975)  Drama  \n1  One Flew Over the Cuckoo's Nest (1975)  Drama  \n2  One Flew Over the Cuckoo's Nest (1975)  Drama  \n3  One Flew Over the Cuckoo's Nest (1975)  Drama  \n4  One Flew Over the Cuckoo's Nest (1975)  Drama  \n5  One Flew Over the Cuckoo's Nest (1975)  Drama  \n6  One Flew Over the Cuckoo's Nest (1975)  Drama  \n7  One Flew Over the Cuckoo's Nest (1975)  Drama  \n8  One Flew Over the Cuckoo's Nest (1975)  Drama  \n9  One Flew Over the Cuckoo's Nest (1975)  Drama  \n"
      }
     ],
     "prompt_number": 4
    },
    {
     "cell_type": "raw",
     "metadata": {},
     "source": "La funci\u00f3 \"ix\" ens permet obtenir un subconjunt de files i/o columnes:"
    },
    {
     "cell_type": "code",
     "collapsed": false,
     "input": "print data.ix[1]",
     "language": "python",
     "metadata": {},
     "outputs": [
      {
       "output_type": "stream",
       "stream": "stdout",
       "text": "user_id                                            2\nmovie_id                                        1193\nrating                                             5\ntimestamp                                  978298413\ngender                                             M\nage                                               56\noccupation                                        16\nzip                                            70072\ntitle         One Flew Over the Cuckoo's Nest (1975)\ngenres                                         Drama\nName: 1, dtype: object\n"
      }
     ],
     "prompt_number": 79
    },
    {
     "cell_type": "raw",
     "metadata": {},
     "source": "Per obtenir les puntuacions mitjanes de cada pel\u00b7licula agrupada per g\u00e8nere podem usar el m\u00e8tode 'pivot_table':"
    },
    {
     "cell_type": "code",
     "collapsed": false,
     "input": "mean_ratings = data.pivot_table('rating', rows='title', cols='gender', aggfunc='mean')\nmean_ratings[:10]",
     "language": "python",
     "metadata": {},
     "outputs": [
      {
       "html": "<div style=\"max-height:1000px;max-width:1500px;overflow:auto;\">\n<table border=\"1\" class=\"dataframe\">\n  <thead>\n    <tr style=\"text-align: right;\">\n      <th>gender</th>\n      <th>F</th>\n      <th>M</th>\n    </tr>\n    <tr>\n      <th>title</th>\n      <th></th>\n      <th></th>\n    </tr>\n  </thead>\n  <tbody>\n    <tr>\n      <th>$1,000,000 Duck (1971)</th>\n      <td> 3.375000</td>\n      <td> 2.761905</td>\n    </tr>\n    <tr>\n      <th>'Night Mother (1986)</th>\n      <td> 3.388889</td>\n      <td> 3.352941</td>\n    </tr>\n    <tr>\n      <th>'Til There Was You (1997)</th>\n      <td> 2.675676</td>\n      <td> 2.733333</td>\n    </tr>\n    <tr>\n      <th>'burbs, The (1989)</th>\n      <td> 2.793478</td>\n      <td> 2.962085</td>\n    </tr>\n    <tr>\n      <th>...And Justice for All (1979)</th>\n      <td> 3.828571</td>\n      <td> 3.689024</td>\n    </tr>\n    <tr>\n      <th>1-900 (1994)</th>\n      <td> 2.000000</td>\n      <td> 3.000000</td>\n    </tr>\n    <tr>\n      <th>10 Things I Hate About You (1999)</th>\n      <td> 3.646552</td>\n      <td> 3.311966</td>\n    </tr>\n    <tr>\n      <th>101 Dalmatians (1961)</th>\n      <td> 3.791444</td>\n      <td> 3.500000</td>\n    </tr>\n    <tr>\n      <th>101 Dalmatians (1996)</th>\n      <td> 3.240000</td>\n      <td> 2.911215</td>\n    </tr>\n    <tr>\n      <th>12 Angry Men (1957)</th>\n      <td> 4.184397</td>\n      <td> 4.328421</td>\n    </tr>\n  </tbody>\n</table>\n</div>",
       "output_type": "pyout",
       "prompt_number": 14,
       "text": "gender                                    F         M\ntitle                                                \n$1,000,000 Duck (1971)             3.375000  2.761905\n'Night Mother (1986)               3.388889  3.352941\n'Til There Was You (1997)          2.675676  2.733333\n'burbs, The (1989)                 2.793478  2.962085\n...And Justice for All (1979)      3.828571  3.689024\n1-900 (1994)                       2.000000  3.000000\n10 Things I Hate About You (1999)  3.646552  3.311966\n101 Dalmatians (1961)              3.791444  3.500000\n101 Dalmatians (1996)              3.240000  2.911215\n12 Angry Men (1957)                4.184397  4.328421"
      }
     ],
     "prompt_number": 14
    },
    {
     "cell_type": "raw",
     "metadata": {},
     "source": "Podem filtrar les pel\u00b7licules que han rebut al menys 250 puntuacions. Per fer-ho, agrupem les dades per t\u00edtol i usem \"size()\" per obtebir una s\u00e8rie de mides per cada t\u00edtol:"
    },
    {
     "cell_type": "code",
     "collapsed": false,
     "input": "ratings_by_title = data.groupby('title').size()\nactive_titles = ratings_by_title.index[ratings_by_title >= 250]",
     "language": "python",
     "metadata": {},
     "outputs": [],
     "prompt_number": 82
    },
    {
     "cell_type": "raw",
     "metadata": {},
     "source": "L'\u00edndex de t\u00edtols que reben al menys 250 puntuacions es pot fer servir per seleccionar les files de \"mean_ratings\": "
    },
    {
     "cell_type": "code",
     "collapsed": false,
     "input": "mean_ratings = mean_ratings.ix[active_titles]\nmean_ratings[:10]",
     "language": "python",
     "metadata": {},
     "outputs": [
      {
       "html": "<div style=\"max-height:1000px;max-width:1500px;overflow:auto;\">\n<table border=\"1\" class=\"dataframe\">\n  <thead>\n    <tr style=\"text-align: right;\">\n      <th>gender</th>\n      <th>F</th>\n      <th>M</th>\n    </tr>\n    <tr>\n      <th>title</th>\n      <th></th>\n      <th></th>\n    </tr>\n  </thead>\n  <tbody>\n    <tr>\n      <th>'burbs, The (1989)</th>\n      <td> 2.793478</td>\n      <td> 2.962085</td>\n    </tr>\n    <tr>\n      <th>10 Things I Hate About You (1999)</th>\n      <td> 3.646552</td>\n      <td> 3.311966</td>\n    </tr>\n    <tr>\n      <th>101 Dalmatians (1961)</th>\n      <td> 3.791444</td>\n      <td> 3.500000</td>\n    </tr>\n    <tr>\n      <th>101 Dalmatians (1996)</th>\n      <td> 3.240000</td>\n      <td> 2.911215</td>\n    </tr>\n    <tr>\n      <th>12 Angry Men (1957)</th>\n      <td> 4.184397</td>\n      <td> 4.328421</td>\n    </tr>\n    <tr>\n      <th>13th Warrior, The (1999)</th>\n      <td> 3.112000</td>\n      <td> 3.168000</td>\n    </tr>\n    <tr>\n      <th>2 Days in the Valley (1996)</th>\n      <td> 3.488889</td>\n      <td> 3.244813</td>\n    </tr>\n    <tr>\n      <th>20,000 Leagues Under the Sea (1954)</th>\n      <td> 3.670103</td>\n      <td> 3.709205</td>\n    </tr>\n    <tr>\n      <th>2001: A Space Odyssey (1968)</th>\n      <td> 3.825581</td>\n      <td> 4.129738</td>\n    </tr>\n    <tr>\n      <th>2010 (1984)</th>\n      <td> 3.446809</td>\n      <td> 3.413712</td>\n    </tr>\n  </tbody>\n</table>\n</div>",
       "metadata": {},
       "output_type": "pyout",
       "prompt_number": 83,
       "text": "gender                                      F         M\ntitle                                                  \n'burbs, The (1989)                   2.793478  2.962085\n10 Things I Hate About You (1999)    3.646552  3.311966\n101 Dalmatians (1961)                3.791444  3.500000\n101 Dalmatians (1996)                3.240000  2.911215\n12 Angry Men (1957)                  4.184397  4.328421\n13th Warrior, The (1999)             3.112000  3.168000\n2 Days in the Valley (1996)          3.488889  3.244813\n20,000 Leagues Under the Sea (1954)  3.670103  3.709205\n2001: A Space Odyssey (1968)         3.825581  4.129738\n2010 (1984)                          3.446809  3.413712"
      }
     ],
     "prompt_number": 83
    },
    {
     "cell_type": "raw",
     "metadata": {},
     "source": "Per veure els films m\u00e9s valorats per les dones, podem ordenar per la columna F de forma descendent:"
    },
    {
     "cell_type": "code",
     "collapsed": false,
     "input": "top_female_ratings = mean_ratings.sort_index(by='F', ascending=False)\ntop_female_ratings[:10]",
     "language": "python",
     "metadata": {},
     "outputs": [
      {
       "html": "<div style=\"max-height:1000px;max-width:1500px;overflow:auto;\">\n<table border=\"1\" class=\"dataframe\">\n  <thead>\n    <tr style=\"text-align: right;\">\n      <th>gender</th>\n      <th>F</th>\n      <th>M</th>\n    </tr>\n    <tr>\n      <th>title</th>\n      <th></th>\n      <th></th>\n    </tr>\n  </thead>\n  <tbody>\n    <tr>\n      <th>Close Shave, A (1995)</th>\n      <td> 4.644444</td>\n      <td> 4.473795</td>\n    </tr>\n    <tr>\n      <th>Wrong Trousers, The (1993)</th>\n      <td> 4.588235</td>\n      <td> 4.478261</td>\n    </tr>\n    <tr>\n      <th>Sunset Blvd. (a.k.a. Sunset Boulevard) (1950)</th>\n      <td> 4.572650</td>\n      <td> 4.464589</td>\n    </tr>\n    <tr>\n      <th>Wallace &amp; Gromit: The Best of Aardman Animation (1996)</th>\n      <td> 4.563107</td>\n      <td> 4.385075</td>\n    </tr>\n    <tr>\n      <th>Schindler's List (1993)</th>\n      <td> 4.562602</td>\n      <td> 4.491415</td>\n    </tr>\n    <tr>\n      <th>Shawshank Redemption, The (1994)</th>\n      <td> 4.539075</td>\n      <td> 4.560625</td>\n    </tr>\n    <tr>\n      <th>Grand Day Out, A (1992)</th>\n      <td> 4.537879</td>\n      <td> 4.293255</td>\n    </tr>\n    <tr>\n      <th>To Kill a Mockingbird (1962)</th>\n      <td> 4.536667</td>\n      <td> 4.372611</td>\n    </tr>\n    <tr>\n      <th>Creature Comforts (1990)</th>\n      <td> 4.513889</td>\n      <td> 4.272277</td>\n    </tr>\n    <tr>\n      <th>Usual Suspects, The (1995)</th>\n      <td> 4.513317</td>\n      <td> 4.518248</td>\n    </tr>\n  </tbody>\n</table>\n</div>",
       "metadata": {},
       "output_type": "pyout",
       "prompt_number": 84,
       "text": "gender                                                         F         M\ntitle                                                                     \nClose Shave, A (1995)                                   4.644444  4.473795\nWrong Trousers, The (1993)                              4.588235  4.478261\nSunset Blvd. (a.k.a. Sunset Boulevard) (1950)           4.572650  4.464589\nWallace & Gromit: The Best of Aardman Animation (1996)  4.563107  4.385075\nSchindler's List (1993)                                 4.562602  4.491415\nShawshank Redemption, The (1994)                        4.539075  4.560625\nGrand Day Out, A (1992)                                 4.537879  4.293255\nTo Kill a Mockingbird (1962)                            4.536667  4.372611\nCreature Comforts (1990)                                4.513889  4.272277\nUsual Suspects, The (1995)                              4.513317  4.518248"
      }
     ],
     "prompt_number": 84
    },
    {
     "cell_type": "raw",
     "metadata": {},
     "source": "Suposem ara que volem les pel\u00b7licules que estan valorades de forma m\u00e9s diferent entre homes i dones. Una forma d'obtenir-ho \u00e9s afegir una columna a \"mean_ratings\" que contingui la difer\u00e8ncia en mitjana i llavors ordenar:"
    },
    {
     "cell_type": "code",
     "collapsed": false,
     "input": "mean_ratings['diff'] = mean_ratings['M'] - mean_ratings['F']",
     "language": "python",
     "metadata": {},
     "outputs": [],
     "prompt_number": 85
    },
    {
     "cell_type": "raw",
     "metadata": {},
     "source": "Ordenant per 'diff' ens d\u00f3na les pel\u00b7licules amb valoraci\u00f3 m\u00e9s diferent i que s\u00f3n ben valorades per les dones:"
    },
    {
     "cell_type": "code",
     "collapsed": false,
     "input": "sorted_by_diff = mean_ratings.sort_index(by='diff')\nsorted_by_diff[:15]",
     "language": "python",
     "metadata": {},
     "outputs": [
      {
       "html": "<div style=\"max-height:1000px;max-width:1500px;overflow:auto;\">\n<table border=\"1\" class=\"dataframe\">\n  <thead>\n    <tr style=\"text-align: right;\">\n      <th>gender</th>\n      <th>F</th>\n      <th>M</th>\n      <th>diff</th>\n    </tr>\n    <tr>\n      <th>title</th>\n      <th></th>\n      <th></th>\n      <th></th>\n    </tr>\n  </thead>\n  <tbody>\n    <tr>\n      <th>Dirty Dancing (1987)</th>\n      <td> 3.790378</td>\n      <td> 2.959596</td>\n      <td>-0.830782</td>\n    </tr>\n    <tr>\n      <th>Jumpin' Jack Flash (1986)</th>\n      <td> 3.254717</td>\n      <td> 2.578358</td>\n      <td>-0.676359</td>\n    </tr>\n    <tr>\n      <th>Grease (1978)</th>\n      <td> 3.975265</td>\n      <td> 3.367041</td>\n      <td>-0.608224</td>\n    </tr>\n    <tr>\n      <th>Little Women (1994)</th>\n      <td> 3.870588</td>\n      <td> 3.321739</td>\n      <td>-0.548849</td>\n    </tr>\n    <tr>\n      <th>Steel Magnolias (1989)</th>\n      <td> 3.901734</td>\n      <td> 3.365957</td>\n      <td>-0.535777</td>\n    </tr>\n    <tr>\n      <th>Anastasia (1997)</th>\n      <td> 3.800000</td>\n      <td> 3.281609</td>\n      <td>-0.518391</td>\n    </tr>\n    <tr>\n      <th>Rocky Horror Picture Show, The (1975)</th>\n      <td> 3.673016</td>\n      <td> 3.160131</td>\n      <td>-0.512885</td>\n    </tr>\n    <tr>\n      <th>Color Purple, The (1985)</th>\n      <td> 4.158192</td>\n      <td> 3.659341</td>\n      <td>-0.498851</td>\n    </tr>\n    <tr>\n      <th>Age of Innocence, The (1993)</th>\n      <td> 3.827068</td>\n      <td> 3.339506</td>\n      <td>-0.487561</td>\n    </tr>\n    <tr>\n      <th>Free Willy (1993)</th>\n      <td> 2.921348</td>\n      <td> 2.438776</td>\n      <td>-0.482573</td>\n    </tr>\n    <tr>\n      <th>French Kiss (1995)</th>\n      <td> 3.535714</td>\n      <td> 3.056962</td>\n      <td>-0.478752</td>\n    </tr>\n    <tr>\n      <th>Little Shop of Horrors, The (1960)</th>\n      <td> 3.650000</td>\n      <td> 3.179688</td>\n      <td>-0.470312</td>\n    </tr>\n    <tr>\n      <th>Guys and Dolls (1955)</th>\n      <td> 4.051724</td>\n      <td> 3.583333</td>\n      <td>-0.468391</td>\n    </tr>\n    <tr>\n      <th>Mary Poppins (1964)</th>\n      <td> 4.197740</td>\n      <td> 3.730594</td>\n      <td>-0.467147</td>\n    </tr>\n    <tr>\n      <th>Patch Adams (1998)</th>\n      <td> 3.473282</td>\n      <td> 3.008746</td>\n      <td>-0.464536</td>\n    </tr>\n  </tbody>\n</table>\n</div>",
       "metadata": {},
       "output_type": "pyout",
       "prompt_number": 86,
       "text": "gender                                        F         M      diff\ntitle                                                              \nDirty Dancing (1987)                   3.790378  2.959596 -0.830782\nJumpin' Jack Flash (1986)              3.254717  2.578358 -0.676359\nGrease (1978)                          3.975265  3.367041 -0.608224\nLittle Women (1994)                    3.870588  3.321739 -0.548849\nSteel Magnolias (1989)                 3.901734  3.365957 -0.535777\nAnastasia (1997)                       3.800000  3.281609 -0.518391\nRocky Horror Picture Show, The (1975)  3.673016  3.160131 -0.512885\nColor Purple, The (1985)               4.158192  3.659341 -0.498851\nAge of Innocence, The (1993)           3.827068  3.339506 -0.487561\nFree Willy (1993)                      2.921348  2.438776 -0.482573\nFrench Kiss (1995)                     3.535714  3.056962 -0.478752\nLittle Shop of Horrors, The (1960)     3.650000  3.179688 -0.470312\nGuys and Dolls (1955)                  4.051724  3.583333 -0.468391\nMary Poppins (1964)                    4.197740  3.730594 -0.467147\nPatch Adams (1998)                     3.473282  3.008746 -0.464536"
      }
     ],
     "prompt_number": 86
    },
    {
     "cell_type": "raw",
     "metadata": {},
     "source": "Invertint l'ordre de les files i fent un \"slicing\" de les 15 files superiors obtenim les pel\u00b7licules preferides pels homes que no han agradat a les dones: "
    },
    {
     "cell_type": "code",
     "collapsed": false,
     "input": "sorted_by_diff[::-1][:15]",
     "language": "python",
     "metadata": {},
     "outputs": [
      {
       "html": "<div style=\"max-height:1000px;max-width:1500px;overflow:auto;\">\n<table border=\"1\" class=\"dataframe\">\n  <thead>\n    <tr style=\"text-align: right;\">\n      <th>gender</th>\n      <th>F</th>\n      <th>M</th>\n      <th>diff</th>\n    </tr>\n    <tr>\n      <th>title</th>\n      <th></th>\n      <th></th>\n      <th></th>\n    </tr>\n  </thead>\n  <tbody>\n    <tr>\n      <th>Good, The Bad and The Ugly, The (1966)</th>\n      <td> 3.494949</td>\n      <td> 4.221300</td>\n      <td> 0.726351</td>\n    </tr>\n    <tr>\n      <th>Kentucky Fried Movie, The (1977)</th>\n      <td> 2.878788</td>\n      <td> 3.555147</td>\n      <td> 0.676359</td>\n    </tr>\n    <tr>\n      <th>Dumb &amp; Dumber (1994)</th>\n      <td> 2.697987</td>\n      <td> 3.336595</td>\n      <td> 0.638608</td>\n    </tr>\n    <tr>\n      <th>Longest Day, The (1962)</th>\n      <td> 3.411765</td>\n      <td> 4.031447</td>\n      <td> 0.619682</td>\n    </tr>\n    <tr>\n      <th>Cable Guy, The (1996)</th>\n      <td> 2.250000</td>\n      <td> 2.863787</td>\n      <td> 0.613787</td>\n    </tr>\n    <tr>\n      <th>Evil Dead II (Dead By Dawn) (1987)</th>\n      <td> 3.297297</td>\n      <td> 3.909283</td>\n      <td> 0.611985</td>\n    </tr>\n    <tr>\n      <th>Hidden, The (1987)</th>\n      <td> 3.137931</td>\n      <td> 3.745098</td>\n      <td> 0.607167</td>\n    </tr>\n    <tr>\n      <th>Rocky III (1982)</th>\n      <td> 2.361702</td>\n      <td> 2.943503</td>\n      <td> 0.581801</td>\n    </tr>\n    <tr>\n      <th>Caddyshack (1980)</th>\n      <td> 3.396135</td>\n      <td> 3.969737</td>\n      <td> 0.573602</td>\n    </tr>\n    <tr>\n      <th>For a Few Dollars More (1965)</th>\n      <td> 3.409091</td>\n      <td> 3.953795</td>\n      <td> 0.544704</td>\n    </tr>\n    <tr>\n      <th>Porky's (1981)</th>\n      <td> 2.296875</td>\n      <td> 2.836364</td>\n      <td> 0.539489</td>\n    </tr>\n    <tr>\n      <th>Animal House (1978)</th>\n      <td> 3.628906</td>\n      <td> 4.167192</td>\n      <td> 0.538286</td>\n    </tr>\n    <tr>\n      <th>Exorcist, The (1973)</th>\n      <td> 3.537634</td>\n      <td> 4.067239</td>\n      <td> 0.529605</td>\n    </tr>\n    <tr>\n      <th>Fright Night (1985)</th>\n      <td> 2.973684</td>\n      <td> 3.500000</td>\n      <td> 0.526316</td>\n    </tr>\n    <tr>\n      <th>Barb Wire (1996)</th>\n      <td> 1.585366</td>\n      <td> 2.100386</td>\n      <td> 0.515020</td>\n    </tr>\n  </tbody>\n</table>\n</div>",
       "metadata": {},
       "output_type": "pyout",
       "prompt_number": 87,
       "text": "gender                                         F         M      diff\ntitle                                                               \nGood, The Bad and The Ugly, The (1966)  3.494949  4.221300  0.726351\nKentucky Fried Movie, The (1977)        2.878788  3.555147  0.676359\nDumb & Dumber (1994)                    2.697987  3.336595  0.638608\nLongest Day, The (1962)                 3.411765  4.031447  0.619682\nCable Guy, The (1996)                   2.250000  2.863787  0.613787\nEvil Dead II (Dead By Dawn) (1987)      3.297297  3.909283  0.611985\nHidden, The (1987)                      3.137931  3.745098  0.607167\nRocky III (1982)                        2.361702  2.943503  0.581801\nCaddyshack (1980)                       3.396135  3.969737  0.573602\nFor a Few Dollars More (1965)           3.409091  3.953795  0.544704\nPorky's (1981)                          2.296875  2.836364  0.539489\nAnimal House (1978)                     3.628906  4.167192  0.538286\nExorcist, The (1973)                    3.537634  4.067239  0.529605\nFright Night (1985)                     2.973684  3.500000  0.526316\nBarb Wire (1996)                        1.585366  2.100386  0.515020"
      }
     ],
     "prompt_number": 87
    },
    {
     "cell_type": "raw",
     "metadata": {},
     "source": "Si volgu\u00e9ssim les pel\u00b7licules que han generat puntuacions m\u00e9s discordants, independentment del g\u00e8nere, podem fer servir la varian\u00e7a o la desviaci\u00f3 est\u00e0ndard de les puntuacions: "
    },
    {
     "cell_type": "code",
     "collapsed": false,
     "input": "# Standard deviation of rating grouped by title\nrating_std_by_title = data.groupby('title')['rating'].std()\n# Filter down to active_titles\nrating_std_by_title = rating_std_by_title.ix[active_titles]\nrating_std_by_title.order(ascending=False)[:10]",
     "language": "python",
     "metadata": {},
     "outputs": [
      {
       "metadata": {},
       "output_type": "pyout",
       "prompt_number": 88,
       "text": "title\nDumb & Dumber (1994)                     1.321333\nBlair Witch Project, The (1999)          1.316368\nNatural Born Killers (1994)              1.307198\nTank Girl (1995)                         1.277695\nRocky Horror Picture Show, The (1975)    1.260177\nEyes Wide Shut (1999)                    1.259624\nEvita (1996)                             1.253631\nBilly Madison (1995)                     1.249970\nFear and Loathing in Las Vegas (1998)    1.246408\nBicentennial Man (1999)                  1.245533\nName: rating, dtype: float64"
      }
     ],
     "prompt_number": 88
    },
    {
     "cell_type": "markdown",
     "metadata": {},
     "source": "<b> EXERCICI 1:</b>\nCalcula la puntuaci\u00f3 mitjana de cada usuari. Quina \u00e9s la pel\u00b7l\u00edcula m\u00e9s ben puntuada? "
    },
    {
     "cell_type": "code",
     "collapsed": false,
     "input": "# mean_rating_by_user ha de ser un dataframe que cont\u00e9 el nom del usuari i la mitja de les seves puntuacions\nmean_rating_by_user = data.groupby('user_id')['rating'].mean()\nprint mean_rating_by_user[:10]\n\n# critic_higher_mean ha de ser el registre de l'usuari amb la mitja m\u00e9s elevada\n# argmax() -> D\u00f3na posici\u00f3 que t\u00e9 el m\u00e0xim\nmean_rating_by_movie = data.groupby('title')['rating'].mean()\nprint #introdeixo una linia en blanc per a tenir un display dels resultats mes \u00f3ptim\nprint mean_rating_by_movie.index[mean_rating_by_movie.argmax()]",
     "language": "python",
     "metadata": {},
     "outputs": [
      {
       "output_type": "stream",
       "stream": "stdout",
       "text": "user_id\n1          4.188679\n2          3.713178\n3          3.901961\n4          4.190476\n5          3.146465\n6          3.901408\n7          4.322581\n8          3.884892\n9          3.735849\n10         4.114713\nName: rating\n\n"
      },
      {
       "output_type": "stream",
       "stream": "stdout",
       "text": "Baby, The (1973)\n"
      }
     ],
     "prompt_number": 6
    },
    {
     "cell_type": "markdown",
     "metadata": {},
     "source": "<b>EXERCICI 2:</b> Defineix una funci\u00f3 anomenada <b>top_movie</b> que donat un usuari ens retorni quina \u00e9s la pel\u00b7l\u00edcula millor puntuada.<br> \ndef top_movie(user)\n"
    },
    {
     "cell_type": "code",
     "collapsed": false,
     "input": "def top_movie(dataFrame,usr):\n    usuari = dataFrame[dataFrame['user_id'] == usr]\n    pos_rel = usuari['rating'].argmax() #Obtenim, amb argmax, la posicio numerica dintre de la taula d'usuari del m\u00e0xim\n    pos_abs = usuari.index[pos_rel] #Obtenim el valor de l'index d'aquesta posicio relativa\n    return usuari.ix[pos_abs]['title'] #Retornem aquest index, nom\u00e9s el titol de la pelicula\n\nprint\nprint top_movie(data,1)",
     "language": "python",
     "metadata": {},
     "outputs": [
      {
       "output_type": "stream",
       "stream": "stdout",
       "text": "\nOne Flew Over the Cuckoo's Nest (1975)\n"
      }
     ],
     "prompt_number": 7
    },
    {
     "cell_type": "heading",
     "level": 3,
     "metadata": {},
     "source": "1.2 Construcci\u00f3 d'un recomanador."
    },
    {
     "cell_type": "markdown",
     "metadata": {},
     "source": "<b>Exercici 3: </b>\n\nConstrueix dues funcions, <b>distEuclid(x,y)</b> i <b>coefPearson(x,y)</b>, que implementin la dist\u00e0ncia Euclidiana i el coeficient de correlaci\u00f3 de Pearson entre dos vectors. Escriu les funcions que calculin la semblan\u00e7a entre dos usuaris segons aquesta estructura:\n\n<b>def SimEuclid (DataFrame, User1, User2)</b>\n    Calcular els vectors representatius de cada usuari, C1 i C2, amb les puntuacions dels \u00edtems comuns que han puntuat el dos usuaris.<br>\n    Si no hi ha puntuacions en com\u00fa, retornar 0.\n    Retornar 1/(1+distEuclid(C1, C2))<br>\n    \n<b>def SimPearson (DataFrame, User1, User2)</b>\n    Calcular els vectors representatius de cada usuari, C1 i C2, amb les puntuacions dels \u00edtems comuns que han puntuat el dos usuaris.<br>\n    Si no hi ha puntuacions en com\u00fa, retornar 0.>\n    Retornar coefPearson(C1,C2)<br>\n    \n\n<b>Utilizeu el panda per a realitzaci\u00f3 d'aquest exercici.</b>"
    },
    {
     "cell_type": "code",
     "collapsed": false,
     "input": "import math\nimport numpy as np\nimport pandas as pd\n\n\n# Returns the euclidean distance of to vectors\ndef distEuclid(x, y):\n    #Funci\u00f3 sense list comprehensions. S'hauria de fer amb.\n    if len(x) != len(y):\n        return -1\n    return math.sqrt(sum( (a - b)**2 for a, b in zip(x, y)))\n\n # Returns the euclidean pearson of to vectors \ndef coefPearson(x, y):\n    mitjaX = np.mean(x)\n    mitjaY = np.mean(y)\n    numerador = 0\n    denominadorX = 0\n    denominadorY = 0\n    for i in range(len(x)):\n        numerador += (x[i] - mitjaX) * (y[i] - mitjaY)\n        denominadorX += (x[i] - mitjaX)**2\n        denominadorY += (y[i] - mitjaY)**2\n    res = numerador/(math.sqrt(denominadorX)*math.sqrt(denominadorY))\n    if math.isnan(res): return 0\n    return res\n        \n# Returns a distance-based similarity score for person1 and person2 based on euclidean distance\ndef SimEuclid(DataFrame,User1,User2):\n    taulaUsr1 = DataFrame[DataFrame['user_id'] == User1]\n    taulaUsr2 = DataFrame[DataFrame['user_id'] == User2]\n    \n    print taulaUsr1\n    \n    #mergeTables = pd.merge(taulaUsr1, taulaUsr2)\n    \n    #return 0\n\n# Returns a distance-based similarity score for person1 and person2 based on pearson distance\ndef SimPearson(DataFrame,User1,User2):\n    return 0\n\nSimEuclid(data, 1, 2)\nSimPearson(data, 1, 2)",
     "language": "python",
     "metadata": {},
     "outputs": [
      {
       "output_type": "stream",
       "stream": "stdout",
       "text": "       user_id  movie_id  rating  timestamp gender  age  occupation    zip  \\\n0            1      1193       5  978300760      F    1          10  48067   \n1725         1       661       3  978302109      F    1          10  48067   \n2250         1       914       3  978301968      F    1          10  48067   \n2886         1      3408       4  978300275      F    1          10  48067   \n4201         1      2355       5  978824291      F    1          10  48067   \n5904         1      1197       3  978302268      F    1          10  48067   \n8222         1      1287       5  978302039      F    1          10  48067   \n8926         1      2804       5  978300719      F    1          10  48067   \n10278        1       594       4  978302268      F    1          10  48067   \n11041        1       919       4  978301368      F    1          10  48067   \n12759        1       595       5  978824268      F    1          10  48067   \n13819        1       938       4  978301752      F    1          10  48067   \n14006        1      2398       4  978302281      F    1          10  48067   \n14386        1      2918       4  978302124      F    1          10  48067   \n15859        1      1035       5  978301753      F    1          10  48067   \n16741        1      2791       4  978302188      F    1          10  48067   \n18472        1      2687       3  978824268      F    1          10  48067   \n18914        1      2018       4  978301777      F    1          10  48067   \n19503        1      3105       5  978301713      F    1          10  48067   \n20183        1      2797       4  978302039      F    1          10  48067   \n21674        1      2321       3  978302205      F    1          10  48067   \n22832        1       720       3  978300760      F    1          10  48067   \n23270        1      1270       5  978300055      F    1          10  48067   \n25853        1       527       5  978824195      F    1          10  48067   \n28157        1      2340       3  978300103      F    1          10  48067   \n28501        1        48       5  978824351      F    1          10  48067   \n28883        1      1097       4  978301953      F    1          10  48067   \n31152        1      1721       4  978300055      F    1          10  48067   \n32698        1      1545       4  978824139      F    1          10  48067   \n32771        1       745       3  978824268      F    1          10  48067   \n33428        1      2294       4  978824291      F    1          10  48067   \n34073        1      3186       4  978300019      F    1          10  48067   \n34504        1      1566       4  978824330      F    1          10  48067   \n34973        1       588       4  978824268      F    1          10  48067   \n36324        1      1907       4  978824330      F    1          10  48067   \n36814        1       783       4  978824291      F    1          10  48067   \n37204        1      1836       5  978300172      F    1          10  48067   \n37339        1      1022       5  978300055      F    1          10  48067   \n37916        1      2762       4  978302091      F    1          10  48067   \n40375        1       150       5  978301777      F    1          10  48067   \n41626        1         1       5  978824268      F    1          10  48067   \n43703        1      1961       5  978301590      F    1          10  48067   \n45033        1      1962       4  978301753      F    1          10  48067   \n45685        1      2692       4  978301570      F    1          10  48067   \n46757        1       260       4  978300760      F    1          10  48067   \n49748        1      1028       5  978301777      F    1          10  48067   \n50759        1      1029       5  978302205      F    1          10  48067   \n51327        1      1207       4  978300719      F    1          10  48067   \n52255        1      2028       5  978301619      F    1          10  48067   \n54908        1       531       4  978302149      F    1          10  48067   \n55246        1      3114       4  978302174      F    1          10  48067   \n56831        1       608       4  978301398      F    1          10  48067   \n59344        1      1246       4  978302091      F    1          10  48067   \n\n                                                   title  \\\n0                 One Flew Over the Cuckoo's Nest (1975)   \n1725                    James and the Giant Peach (1996)   \n2250                                 My Fair Lady (1964)   \n2886                              Erin Brockovich (2000)   \n4201                                Bug's Life, A (1998)   \n5904                          Princess Bride, The (1987)   \n8222                                      Ben-Hur (1959)   \n8926                           Christmas Story, A (1983)   \n10278             Snow White and the Seven Dwarfs (1937)   \n11041                           Wizard of Oz, The (1939)   \n12759                        Beauty and the Beast (1991)   \n13819                                        Gigi (1958)   \n14006                      Miracle on 34th Street (1947)   \n14386                    Ferris Bueller's Day Off (1986)   \n15859                         Sound of Music, The (1965)   \n16741                                   Airplane! (1980)   \n18472                                      Tarzan (1999)   \n18914                                       Bambi (1942)   \n19503                                  Awakenings (1990)   \n20183                                         Big (1988)   \n21674                               Pleasantville (1998)   \n22832  Wallace & Gromit: The Best of Aardman Animatio...   \n23270                          Back to the Future (1985)   \n25853                            Schindler's List (1993)   \n28157                              Meet Joe Black (1998)   \n28501                                  Pocahontas (1995)   \n28883                  E.T. the Extra-Terrestrial (1982)   \n31152                                     Titanic (1997)   \n32698                                     Ponette (1996)   \n32771                              Close Shave, A (1995)   \n33428                                        Antz (1998)   \n34073                           Girl, Interrupted (1999)   \n34504                                    Hercules (1997)   \n34973                                     Aladdin (1992)   \n36324                                       Mulan (1998)   \n36814                Hunchback of Notre Dame, The (1996)   \n37204                     Last Days of Disco, The (1998)   \n37339                                  Cinderella (1950)   \n37916                            Sixth Sense, The (1999)   \n40375                                   Apollo 13 (1995)   \n41626                                   Toy Story (1995)   \n43703                                    Rain Man (1988)   \n45033                          Driving Miss Daisy (1989)   \n45685                   Run Lola Run (Lola rennt) (1998)   \n46757          Star Wars: Episode IV - A New Hope (1977)   \n49748                                Mary Poppins (1964)   \n50759                                       Dumbo (1941)   \n51327                       To Kill a Mockingbird (1962)   \n52255                         Saving Private Ryan (1998)   \n54908                          Secret Garden, The (1993)   \n55246                                 Toy Story 2 (1999)   \n56831                                       Fargo (1996)   \n59344                          Dead Poets Society (1989)   \n\n                                              genres  \n0                                              Drama  \n1725                    Animation|Children's|Musical  \n2250                                 Musical|Romance  \n2886                                           Drama  \n4201                     Animation|Children's|Comedy  \n5904                 Action|Adventure|Comedy|Romance  \n8222                          Action|Adventure|Drama  \n8926                                    Comedy|Drama  \n10278                   Animation|Children's|Musical  \n11041             Adventure|Children's|Drama|Musical  \n12759                   Animation|Children's|Musical  \n13819                                        Musical  \n14006                                          Drama  \n14386                                         Comedy  \n15859                                        Musical  \n16741                                         Comedy  \n18472                           Animation|Children's  \n18914                           Animation|Children's  \n19503                                          Drama  \n20183                                 Comedy|Fantasy  \n21674                                         Comedy  \n22832                                      Animation  \n23270                                  Comedy|Sci-Fi  \n25853                                      Drama|War  \n28157                                        Romance  \n28501           Animation|Children's|Musical|Romance  \n28883                Children's|Drama|Fantasy|Sci-Fi  \n31152                                  Drama|Romance  \n32698                                          Drama  \n32771                      Animation|Comedy|Thriller  \n33428                           Animation|Children's  \n34073                                          Drama  \n34504  Adventure|Animation|Children's|Comedy|Musical  \n34973            Animation|Children's|Comedy|Musical  \n36324                           Animation|Children's  \n36814                   Animation|Children's|Musical  \n37204                                          Drama  \n37339                   Animation|Children's|Musical  \n37916                                       Thriller  \n40375                                          Drama  \n41626                    Animation|Children's|Comedy  \n43703                                          Drama  \n45033                                          Drama  \n45685                           Action|Crime|Romance  \n46757                Action|Adventure|Fantasy|Sci-Fi  \n49748                      Children's|Comedy|Musical  \n50759                   Animation|Children's|Musical  \n51327                                          Drama  \n52255                               Action|Drama|War  \n54908                               Children's|Drama  \n55246                    Animation|Children's|Comedy  \n56831                           Crime|Drama|Thriller  \n59344                                          Drama  \n"
      },
      {
       "output_type": "pyout",
       "prompt_number": 21,
       "text": "0"
      }
     ],
     "prompt_number": 21
    },
    {
     "cell_type": "code",
     "collapsed": false,
     "input": "# Execute functions\nprint SimEuclid(data, 1, 2)\nprint SimPearson(data, 1, 2)",
     "language": "python",
     "metadata": {},
     "outputs": [
      {
       "output_type": "stream",
       "stream": "stdout",
       "text": "0\n0\n"
      }
     ],
     "prompt_number": 9
    },
    {
     "cell_type": "markdown",
     "metadata": {},
     "source": "<b>Exercici 4:</b>\n\nFeu dues funcions, <b>getNBestEuclid(DataFrame, user,n)</b> i <b>getNBestPearson(DataFrame, user,n)</b>, que retornin els n usuaris m\u00e9s semblants segons aquestes dues mesures de similitud."
    },
    {
     "cell_type": "code",
     "collapsed": false,
     "input": "# return the N most similar users to given used based on euclidean distance\ndef getNBestEuclid(DataFrame,user,n):\n    return 0\n\n# return the N most similar users to given used based on pearson distance\ndef getNBestPearson(DataFrame,user,n):\n    return 0",
     "language": "python",
     "metadata": {},
     "outputs": [],
     "prompt_number": 97
    },
    {
     "cell_type": "code",
     "collapsed": false,
     "input": "# EXECUTE FUNCTIONS\nprint getNBestEuclid(data,1,5)\nprint getNBestPearson(data,1,5)\n\n",
     "language": "python",
     "metadata": {},
     "outputs": [
      {
       "output_type": "stream",
       "stream": "stdout",
       "text": "0\n0\n"
      }
     ],
     "prompt_number": 98
    },
    {
     "cell_type": "markdown",
     "metadata": {},
     "source": "<b>Exercici 5:</b>\n\nDesenvolupa un sistema de recomanaci\u00f3 col\u00b7laboratiu basat en usuaris. La funci\u00f3 principal, <b>getRecommendationsUser</b>, ha de tenir com a entrada una taula de puntuacions, un \"user_id\", el tipus de mesura de semblan\u00e7a (Euclidiana o Pearson) que volem usar i el nombre n m\u00e0xim de recomanacions que volem. Com a sortida ha de donar la llista de les 5 millors pel\u00b7l\u00edcules que li podriem recomanar segons la seva semblan\u00e7a amb altres usuaris.\n\nNota: S'ha d'evitar comparar \"user_id\" a ell mateix."
    },
    {
     "cell_type": "code",
     "collapsed": false,
     "input": "# Gets recommendations for a person by using a weighted average\n# of every other user's rankings\ndef getRecommendationsUser(DataFrame,person,n,similarity=SimPearson):\n   return 0",
     "language": "python",
     "metadata": {},
     "outputs": [],
     "prompt_number": 99
    },
    {
     "cell_type": "code",
     "collapsed": false,
     "input": "getRecommendationsUser(data, 2, 10,SimEuclid)",
     "language": "python",
     "metadata": {},
     "outputs": [
      {
       "metadata": {},
       "output_type": "pyout",
       "prompt_number": 100,
       "text": "0"
      }
     ],
     "prompt_number": 100
    },
    {
     "cell_type": "markdown",
     "metadata": {},
     "source": "<b>Exercici 6:</b>\n\nDesenvolupa un sistema de recomanaci\u00f3 col\u00b7laboratiu basat en \u00edtems. \n\nPrimer, escriu una funci\u00f3 <b>CalcSimItems(DataFrame)</b>, que construeixi i retorni una taula, itemsim, amb les semblances entre els \u00edtems.\nDespr\u00e9s escriu la funci\u00f3 principal, <b>getRecommendationsItem(DataFrame, itemsim, user, n)</b>, ha de tenir com a entrada les puntuacions dels usuaris, la taula de semblan\u00e7a entre \u00edtems, un \"user_id\" i el nombre n m\u00e0xim de recomanacions que volem. Com a sortida ha de donar les n millors pel\u00b7l\u00edcules."
    },
    {
     "cell_type": "code",
     "collapsed": false,
     "input": "def CalcSimItems(DataFrame):\n    return 0\ndef getRecommendationsItem(data1, itemsim, usr, n,similarity=SimPearson):\n    return 0",
     "language": "python",
     "metadata": {},
     "outputs": [],
     "prompt_number": 101
    },
    {
     "cell_type": "code",
     "collapsed": false,
     "input": "#Executions\nitemsim=CalcSimItems(data)\ngetRecommendationsItem(data, itemsim, 1, 10)",
     "language": "python",
     "metadata": {},
     "outputs": [
      {
       "metadata": {},
       "output_type": "pyout",
       "prompt_number": 102,
       "text": "0"
      }
     ],
     "prompt_number": 102
    },
    {
     "cell_type": "markdown",
     "metadata": {},
     "source": "<b>Exercici 7:</b> Creu una funcio, <b>EvaluateRecommendationsUser(DataFrame,DataFrameTest,similarity=SimPearson)</b>, que donat un conjunt de dades d'entrenament i un conjunt de dades de test ens avalua la precisi\u00f3 dels sistema.\nPer a cadascun dels elements del conjunt de test haurem de pronosticar el seu valor i comparar-lo amb el valor real que l'usuari li ha asignat.<br> Els mesura que utilizarem per avaluar el sistema \u00e9s la seg\u00fcent:\n$$accuracy = 1/N\\sum_{i=0}^N  abs(rating_i - rating_i^*) $$ on rating \u00e9s la puntauci\u00f3 real que l'usuari va asginar a la pel\u00b7l\u00edcula i rating* \u00e9s el valor pronoticat pel sistema de recomanacio desenvolupat.\n"
    },
    {
     "cell_type": "code",
     "collapsed": false,
     "input": "# evaluate the recomender given a training and a testing set. Return the accuracy of the system \ndef EvaluateRecommendationsUser(DataFrame,DataFrameTest,similarity=SimPearson):\n    return 0",
     "language": "python",
     "metadata": {},
     "outputs": [],
     "prompt_number": 103
    },
    {
     "cell_type": "code",
     "collapsed": false,
     "input": "accuracy = EvaluateRecommendationsUser(data[10:],data[0:9],similarity=SimEuclid)",
     "language": "python",
     "metadata": {},
     "outputs": [],
     "prompt_number": 104
    }
   ],
   "metadata": {}
  }
 ]
}